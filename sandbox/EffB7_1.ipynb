{
 "cells": [
  {
   "cell_type": "code",
   "execution_count": 1,
   "id": "1d4bee32-810c-4713-b7f5-e80d5e67ea2b",
   "metadata": {},
   "outputs": [],
   "source": [
    "import ast\n",
    "import json\n",
    "import os\n",
    "import shutil\n",
    "import albumentations\n",
    "import matplotlib.pyplot as plt\n",
    "import numpy as np\n",
    "import pandas as pd\n",
    "import pydicom as dicom\n",
    "import tensorflow as tf\n",
    "import torch\n",
    "from sklearn.model_selection import StratifiedKFold\n",
    "from PIL import Image\n",
    "from tensorflow import keras\n",
    "from tqdm import tqdm\n",
    "from src.utils import Aug, Generator, GetModel\n",
    "import tensorflow_addons as tfa"
   ]
  },
  {
   "cell_type": "code",
   "execution_count": 2,
   "id": "81ffb86f-552b-4d73-a952-46ed61b9a66a",
   "metadata": {},
   "outputs": [],
   "source": [
    "df = pd.read_csv(\"/app/_data/train.csv\")"
   ]
  },
  {
   "cell_type": "code",
   "execution_count": 3,
   "id": "d40ec50b-ddb9-498e-9768-8e1fe601db45",
   "metadata": {},
   "outputs": [
    {
     "data": {
      "text/plain": [
       "{'EFFB7': {'IMG_SIZE': 600,\n",
       "  'BATCH_SIZE': 16,\n",
       "  'SEED': 42,\n",
       "  'WEIGHTS': '/app/_data/efficientnet-b7_noisy-student_notop.h5'},\n",
       " 'CLASS': {'negative': 0, 'typical': 1, 'indeterminate': 2, 'atypical': 3}}"
      ]
     },
     "execution_count": 3,
     "metadata": {},
     "output_type": "execute_result"
    }
   ],
   "source": [
    "with open(\"/app/_data/base_config.json\", \"r\") as f:\n",
    "    base_config = json.load(f)\n",
    "base_config"
   ]
  },
  {
   "cell_type": "code",
   "execution_count": 4,
   "id": "24ba8574-95e3-40d6-801b-f8372e478fea",
   "metadata": {},
   "outputs": [
    {
     "data": {
      "text/plain": [
       "{'EFFB7': {'IMG_SIZE': 600,\n",
       "  'BATCH_SIZE': 4,\n",
       "  'SEED': 42,\n",
       "  'WEIGHTS': '/app/_data/efficientnet-b7_noisy-student_notop.h5'},\n",
       " 'CLASS': {'negative': 0, 'typical': 1, 'indeterminate': 2, 'atypical': 3}}"
      ]
     },
     "execution_count": 4,
     "metadata": {},
     "output_type": "execute_result"
    }
   ],
   "source": [
    "base_config['EFFB7'][\"BATCH_SIZE\"]=4\n",
    "base_config"
   ]
  },
  {
   "cell_type": "code",
   "execution_count": 5,
   "id": "9f3589b8-dd67-4fcd-93f3-46bafecd42d6",
   "metadata": {},
   "outputs": [],
   "source": [
    "skf = StratifiedKFold(n_splits=5, random_state=base_config['EFFB7'][\"SEED\"], shuffle=True)\n",
    "train_ids = []\n",
    "val_ids = []\n",
    "for train_index, valid_index in skf.split(df, df[\"class\"]):\n",
    "    train_ids.append(train_index)\n",
    "    val_ids.append(valid_index)"
   ]
  },
  {
   "cell_type": "code",
   "execution_count": 6,
   "id": "2a8b67bc-d68c-48cf-8f0d-0f2b5b7ac27e",
   "metadata": {},
   "outputs": [],
   "source": [
    "# shutil.rmtree('/app//_data/train_jpg_600/')"
   ]
  },
  {
   "cell_type": "code",
   "execution_count": 7,
   "id": "12354210-944b-4126-a7a9-78fd256bc019",
   "metadata": {},
   "outputs": [],
   "source": [
    "gen_train = Generator(\n",
    "    df=df.loc[train_ids[0]],\n",
    "    batch_size=base_config['EFFB7'][\"BATCH_SIZE\"],\n",
    "    seed=base_config['EFFB7'][\"SEED\"],\n",
    "    img_size=base_config['EFFB7'][\"IMG_SIZE\"],\n",
    "    prepared_img_path=\"/app/_data/train_jpg_600/\",\n",
    "    shuffle =True,\n",
    "    augment = True\n",
    ")\n",
    "gen_valid = Generator(\n",
    "    df=df.loc[val_ids[0]],\n",
    "    batch_size=base_config['EFFB7'][\"BATCH_SIZE\"],\n",
    "    seed=base_config['EFFB7'][\"SEED\"],\n",
    "    img_size=base_config['EFFB7'][\"IMG_SIZE\"],\n",
    "    prepared_img_path=\"/app/_data/train_jpg_600/\",\n",
    "    shuffle =False,\n",
    "    augment = False\n",
    ")"
   ]
  },
  {
   "cell_type": "code",
   "execution_count": 8,
   "id": "faf7c03c-254d-46cb-94c3-1546abbc0679",
   "metadata": {},
   "outputs": [],
   "source": [
    "train_sample = next(iter(gen_train))"
   ]
  },
  {
   "cell_type": "code",
   "execution_count": 9,
   "id": "6032609f-d5a1-4864-a734-92258bb54ed3",
   "metadata": {},
   "outputs": [],
   "source": [
    "# plt.figure(figsize = (15,8))\n",
    "# for i in range(8):\n",
    "#     plt.subplot(2,4,i+1)\n",
    "#     plt.title(train_sample[1][i])\n",
    "#     plt.imshow(train_sample[0]['img'][i])"
   ]
  },
  {
   "cell_type": "code",
   "execution_count": 10,
   "id": "93577c24-4172-4ebc-adc1-b7bf809247e9",
   "metadata": {},
   "outputs": [],
   "source": [
    "model = GetModel(\"EFFB7\").get_model()"
   ]
  },
  {
   "cell_type": "code",
   "execution_count": 11,
   "id": "f77e6221-c684-46cb-b462-8b602f3c38ae",
   "metadata": {},
   "outputs": [
    {
     "name": "stdout",
     "output_type": "stream",
     "text": [
      "Warning! Model path already exists.\n"
     ]
    }
   ],
   "source": [
    "callbacks = GetModel(\"EFFB7\").make_callback(\n",
    "    model_path=\"/app/_data/models/EffB7_init/\",\n",
    "    model_name = 'EffB7_0.h5',\n",
    "    tensorboard_path=\"/app/.tensorboard/EffB7_init_0\",\n",
    "    patience_ES=12,\n",
    "    patience_RLR=5,\n",
    "    factor_LR=0.9,\n",
    "    metric_for_monitor=\"val_loss\",\n",
    "    metric_mode=\"min\",\n",
    ")"
   ]
  },
  {
   "cell_type": "code",
   "execution_count": null,
   "id": "34af6431-214c-4a51-ad24-89f675bc44aa",
   "metadata": {},
   "outputs": [
    {
     "name": "stdout",
     "output_type": "stream",
     "text": [
      "Epoch 1/100\n"
     ]
    }
   ],
   "source": [
    "history = model.fit(\n",
    "    gen_train,\n",
    "    validation_data=gen_valid,\n",
    "    epochs=100,\n",
    "    steps_per_epoch=len(train_ids[0]) // base_config['EFFB7'][\"BATCH_SIZE\"]-1,\n",
    "    validation_steps=len(val_ids[0]) // base_config['EFFB7'][\"BATCH_SIZE\"]-1,\n",
    "    verbose=1,\n",
    "    workers=20,\n",
    "    max_queue_size=1000,\n",
    "    callbacks=callbacks,\n",
    ")"
   ]
  },
  {
   "cell_type": "code",
   "execution_count": null,
   "id": "f76dc363-92a8-473f-bada-1801b956de8f",
   "metadata": {},
   "outputs": [],
   "source": []
  }
 ],
 "metadata": {
  "kernelspec": {
   "display_name": "Python 3",
   "language": "python",
   "name": "python3"
  },
  "language_info": {
   "codemirror_mode": {
    "name": "ipython",
    "version": 3
   },
   "file_extension": ".py",
   "mimetype": "text/x-python",
   "name": "python",
   "nbconvert_exporter": "python",
   "pygments_lexer": "ipython3",
   "version": "3.8.5"
  }
 },
 "nbformat": 4,
 "nbformat_minor": 5
}
