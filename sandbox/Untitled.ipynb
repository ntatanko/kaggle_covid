{
 "cells": [
  {
   "cell_type": "markdown",
   "id": "1dc75807-c216-437b-a941-17645419bd73",
   "metadata": {},
   "source": [
    "yolo4"
   ]
  },
  {
   "cell_type": "code",
   "execution_count": null,
   "id": "393c4536-9ed1-44b6-bab2-6933b5d835af",
   "metadata": {},
   "outputs": [],
   "source": [
    "# Process detections\n",
    "for i, det in enumerate(pred):  # detections per image\n",
    "    if webcam:  # batch_size >= 1\n",
    "        p, s, im0 = path[i], '%g: ' % i, im0s[i].copy()\n",
    "    else:\n",
    "        p, s, im0 = path, '', im0s\n",
    "\n",
    "    save_path = str(Path(out) / Path(p).name)\n",
    "    txt_path = str(Path(out) / Path(p).stem) + ('_%g' % dataset.frame if dataset.mode == 'video' else '')\n",
    "    s += '%gx%g ' % img.shape[2:]  # print string\n",
    "    gn = torch.tensor(im0.shape)[[1, 0, 1, 0]]  # normalization gain whwh\n",
    "    if det is not None and len(det):\n",
    "        # Rescale boxes from img_size to im0 size\n",
    "        det[:, :4] = scale_coords(img.shape[2:], det[:, :4], im0.shape).round()\n",
    "\n",
    "        # Print results\n",
    "        for c in det[:, -1].unique():\n",
    "            n = (det[:, -1] == c).sum()  # detections per class\n",
    "            s += '%g %ss, ' % (n, names[int(c)])  # add to string\n",
    "\n",
    "        # Write results\n",
    "        for *xyxy, conf, cls in det:\n",
    "            if save_txt:  # Write to file\n",
    "                xywh = (xyxy2xywh(torch.tensor(xyxy).view(1, 4)) / gn).view(-1).tolist()  # normalized xywh\n",
    "                with open(txt_path + '.txt', 'a') as f:\n",
    "                    f.write(('%g ' * 6 + '\\n') % (cls, *xywh, conf))  # label format\n",
    "\n",
    "            if save_img or view_img:  # Add bbox to image\n",
    "                c = int(cls)\n",
    "                label = (f'{names[c]} {conf:.2f}')\n",
    "                label = '%s' % (names[int(cls)])\n",
    "                plot_one_box(xyxy, im0, label=label, color=colors[int(cls)], line_thickness=2)"
   ]
  },
  {
   "cell_type": "markdown",
   "id": "32fe48b9-0ac4-46ad-8da6-03f3dcae2352",
   "metadata": {},
   "source": [
    "#yolo5"
   ]
  },
  {
   "cell_type": "code",
   "execution_count": null,
   "id": "90b43dd9-a38e-4ced-8c16-2d2f2c197245",
   "metadata": {},
   "outputs": [],
   "source": [
    "# Process detections\n",
    "for i, det in enumerate(pred):  # detections per image\n",
    "    if webcam:  # batch_size >= 1\n",
    "        p, s, im0, frame = path[i], f'{i}: ', im0s[i].copy(), dataset.count\n",
    "    else:\n",
    "        p, s, im0, frame = path, '', im0s.copy(), getattr(dataset, 'frame', 0)\n",
    "\n",
    "    p = Path(p)  # to Path\n",
    "    save_path = str(save_dir / p.name)  # img.jpg\n",
    "    txt_path = str(save_dir / 'labels' / p.stem) + ('' if dataset.mode == 'image' else f'_{frame}')  # img.txt\n",
    "    s += '%gx%g ' % img.shape[2:]  # print string\n",
    "    gn = torch.tensor(im0.shape)[[1, 0, 1, 0]]  # normalization gain whwh\n",
    "    imc = im0.copy() if opt.save_crop else im0  # for opt.save_crop\n",
    "    if len(det):\n",
    "        # Rescale boxes from img_size to im0 size\n",
    "        det[:, :4] = scale_coords(img.shape[2:], det[:, :4], im0.shape).round()\n",
    "\n",
    "        # Print results\n",
    "        for c in det[:, -1].unique():\n",
    "            n = (det[:, -1] == c).sum()  # detections per class\n",
    "            s += f\"{n} {names[int(c)]}{'s' * (n > 1)}, \"  # add to string\n",
    "\n",
    "        # Write results\n",
    "        for *xyxy, conf, cls in reversed(det):\n",
    "            if save_txt:  # Write to file\n",
    "                xywh = (xyxy2xywh(torch.tensor(xyxy).view(1, 4)) / gn).view(-1).tolist()  # normalized xywh\n",
    "                line = (cls, *xywh, conf) if opt.save_conf else (cls, *xywh)  # label format\n",
    "                with open(txt_path + '.txt', 'a') as f:\n",
    "                    f.write(('%g ' * len(line)).rstrip() % line + '\\n')\n",
    "\n",
    "            if save_img or opt.save_crop or view_img:  # Add bbox to image\n",
    "                c = int(cls)  # integer class\n",
    "                label = None if opt.hide_labels else (names[c] if opt.hide_conf else f'{names[c]} {conf:.2f}')\n",
    "                plot_one_box(xyxy, im0, label=label, color=colors(c, True), line_thickness=opt.line_thickness)\n",
    "                if opt.save_crop:\n",
    "                    save_one_box(xyxy, imc, file=save_dir / 'crops' / names[c] / f'{p.stem}.jpg', BGR=True)"
   ]
  },
  {
   "cell_type": "code",
   "execution_count": 11,
   "id": "28251cbe-8ff0-4522-a5bf-e5b131deb545",
   "metadata": {},
   "outputs": [],
   "source": [
    "names=['bb']\n",
    "cls=0\n",
    "conf=0.9"
   ]
  },
  {
   "cell_type": "code",
   "execution_count": 10,
   "id": "e258e6fc-8cb9-4124-b0a5-55ee49e1fdb1",
   "metadata": {},
   "outputs": [
    {
     "data": {
      "text/plain": [
       "'bb 0.7'"
      ]
     },
     "execution_count": 10,
     "metadata": {},
     "output_type": "execute_result"
    }
   ],
   "source": [
    "'%s' % (names[int(cls)]+' '+str(0.7))"
   ]
  },
  {
   "cell_type": "code",
   "execution_count": 13,
   "id": "c221ab10-0eea-4830-930d-56d9466cfd88",
   "metadata": {},
   "outputs": [
    {
     "data": {
      "text/plain": [
       "'bb 0.90'"
      ]
     },
     "execution_count": 13,
     "metadata": {},
     "output_type": "execute_result"
    }
   ],
   "source": [
    "f'{names[int(cls)]} {conf:.2f}'"
   ]
  },
  {
   "cell_type": "code",
   "execution_count": 17,
   "id": "6fc309ca-0208-41fd-8735-44ee3145b568",
   "metadata": {},
   "outputs": [
    {
     "data": {
      "text/plain": [
       "'0 0.1 0.9 \\n'"
      ]
     },
     "execution_count": 17,
     "metadata": {},
     "output_type": "execute_result"
    }
   ],
   "source": [
    "('%g ' * 3 + '\\n') % (cls, 0.1, conf)"
   ]
  },
  {
   "cell_type": "code",
   "execution_count": null,
   "id": "1a6107c6-7220-423a-b924-7ba3f9b4fb96",
   "metadata": {},
   "outputs": [],
   "source": []
  }
 ],
 "metadata": {
  "kernelspec": {
   "display_name": "Python 3",
   "language": "python",
   "name": "python3"
  },
  "language_info": {
   "codemirror_mode": {
    "name": "ipython",
    "version": 3
   },
   "file_extension": ".py",
   "mimetype": "text/x-python",
   "name": "python",
   "nbconvert_exporter": "python",
   "pygments_lexer": "ipython3",
   "version": "3.8.5"
  }
 },
 "nbformat": 4,
 "nbformat_minor": 5
}
