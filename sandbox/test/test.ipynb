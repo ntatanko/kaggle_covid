{
 "cells": [
  {
   "cell_type": "code",
   "execution_count": 1,
   "metadata": {
    "_cell_guid": "b1076dfc-b9ad-4769-8c92-a6c4dae69d19",
    "_uuid": "8f2839f25d086af736a60e9eeb907d3b93b6e0e5",
    "tags": []
   },
   "outputs": [],
   "source": [
    "import ast\n",
    "import json\n",
    "import os\n",
    "import re\n",
    "import shutil\n",
    "import sys\n",
    "import warnings\n",
    "from itertools import chain\n",
    "\n",
    "import matplotlib.pyplot as plt\n",
    "import numpy as np\n",
    "import pandas as pd\n",
    "import pydicom as dicom\n",
    "import tensorflow as tf\n",
    "import tensorflow_addons as tfa\n",
    "import torch\n",
    "from IPython.core.interactiveshell import InteractiveShell\n",
    "from IPython.display import clear_output\n",
    "from numba import cuda\n",
    "from PIL import Image\n",
    "from tensorflow import keras\n",
    "from tqdm import tqdm\n",
    "\n",
    "from src.test_utils.test_utils import Generator, Test\n",
    "\n",
    "# warnings.filterwarnings(\"ignore\")\n",
    "InteractiveShell.ast_node_interactivity = \"all\""
   ]
  },
  {
   "cell_type": "code",
   "execution_count": 11,
   "metadata": {},
   "outputs": [],
   "source": [
    "for file in os.listdir('/app/_data/train_npy_600/'):\n",
    "    f = np.load('/app/_data/train_npy_600/'+file)\n",
    "    a = f[:,:,0]\n",
    "    np.save('/app/_data/npy_600_1/'+file[:-4], a)"
   ]
  },
  {
   "cell_type": "code",
   "execution_count": 12,
   "metadata": {},
   "outputs": [
    {
     "data": {
      "text/plain": [
       "6030"
      ]
     },
     "execution_count": 12,
     "metadata": {},
     "output_type": "execute_result"
    }
   ],
   "source": [
    "len(os.listdir('/app/_data/npy_600_1/'))"
   ]
  },
  {
   "cell_type": "code",
   "execution_count": 13,
   "metadata": {},
   "outputs": [
    {
     "data": {
      "text/plain": [
       "'/app/sandbox/test/train_npy_1d.zip'"
      ]
     },
     "execution_count": 13,
     "metadata": {},
     "output_type": "execute_result"
    }
   ],
   "source": [
    "shutil.make_archive('train_npy_1d','zip','/app/_data/npy_600_1/')"
   ]
  },
  {
   "cell_type": "code",
   "execution_count": null,
   "metadata": {},
   "outputs": [],
   "source": []
  },
  {
   "cell_type": "code",
   "execution_count": 2,
   "metadata": {
    "tags": []
   },
   "outputs": [
    {
     "data": {
      "text/plain": [
       "True"
      ]
     },
     "execution_count": 2,
     "metadata": {},
     "output_type": "execute_result"
    }
   ],
   "source": [
    "sample_submission = pd.read_csv(\"/app/_data/sample_submission.csv\")\n",
    "if sample_submission.shape[0] == 2477:\n",
    "    TRAIN_MODE = True\n",
    "else:\n",
    "    TRAIN_MODE = False\n",
    "IMG_FROM_FOLDER = True\n",
    "OBJ_DET = True\n",
    "CLASSIFICATION = True\n",
    "TRAIN_MODE"
   ]
  },
  {
   "cell_type": "code",
   "execution_count": 3,
   "metadata": {
    "tags": []
   },
   "outputs": [
    {
     "data": {
      "text/plain": [
       "{0: 'negative', 1: 'typical', 2: 'indeterminate', 3: 'atypical'}"
      ]
     },
     "execution_count": 3,
     "metadata": {},
     "output_type": "execute_result"
    }
   ],
   "source": [
    "TEST_PATH = \"/app/_data/test/\"\n",
    "TEST_JPG_PATH = \"/app/_data/tmp/\"\n",
    "METADATA_PATH = \"/app/_data//dict_metadata.json\"\n",
    "MODEL_PATH = [\n",
    "    \"/app/_data/models/EffB7_init/\",\n",
    "]\n",
    "MODEL_2CL_PATH = [\n",
    "    \"/app/_data/models/EffB7_2class_1/EffB7_2cl_1.h5\",\n",
    "    \"/app/_data/models/EffB7_2class_1/EffB7_2cl_3.h5\",\n",
    "    \"/app/_data/models/EffB7_2class_1/EffB7_2cl_4.h5\",\n",
    "]\n",
    "SAVE_BBOX_PATH = \"/app/_data/tmp/labels/\"\n",
    "\n",
    "with open(METADATA_PATH, \"r\") as f:\n",
    "    dict_metadata = json.load(f)\n",
    "labels = {v: k for k, v in dict_metadata[\"class\"].items()}\n",
    "labels"
   ]
  },
  {
   "cell_type": "code",
   "execution_count": 4,
   "metadata": {
    "tags": []
   },
   "outputs": [
    {
     "name": "stderr",
     "output_type": "stream",
     "text": [
      "100%|██████████| 10/10 [00:04<00:00,  2.00it/s]\n",
      "/app/src/test_utils/test_utils.py:74: FutureWarning: The default value of regex will change from True to False in a future version.\n",
      "  test_df[\"path\"] = test_df[\"path\"].str.replace(\"\\../\", \"/kaggle/\")\n"
     ]
    },
    {
     "data": {
      "text/html": [
       "<div>\n",
       "<style scoped>\n",
       "    .dataframe tbody tr th:only-of-type {\n",
       "        vertical-align: middle;\n",
       "    }\n",
       "\n",
       "    .dataframe tbody tr th {\n",
       "        vertical-align: top;\n",
       "    }\n",
       "\n",
       "    .dataframe thead th {\n",
       "        text-align: right;\n",
       "    }\n",
       "</style>\n",
       "<table border=\"1\" class=\"dataframe\">\n",
       "  <thead>\n",
       "    <tr style=\"text-align: right;\">\n",
       "      <th></th>\n",
       "      <th>path</th>\n",
       "      <th>StudyInstanceUID</th>\n",
       "      <th>id_image</th>\n",
       "      <th>modality</th>\n",
       "      <th>PatientSex</th>\n",
       "      <th>BodyPartExamined</th>\n",
       "      <th>PhotometricInterpretation</th>\n",
       "      <th>width</th>\n",
       "      <th>height</th>\n",
       "    </tr>\n",
       "  </thead>\n",
       "  <tbody>\n",
       "    <tr>\n",
       "      <th>0</th>\n",
       "      <td>/app/_data/test/fe64182ae21d/d56579abcb25/a82c...</td>\n",
       "      <td>fe64182ae21d</td>\n",
       "      <td>a82ca8f37fb6</td>\n",
       "      <td>CR</td>\n",
       "      <td>F</td>\n",
       "      <td>CHEST</td>\n",
       "      <td>MONOCHROME2</td>\n",
       "      <td>4248.0</td>\n",
       "      <td>3480.0</td>\n",
       "    </tr>\n",
       "    <tr>\n",
       "      <th>1</th>\n",
       "      <td>/app/_data/test/6117058c3931/d51d2a5e7f7a/b74f...</td>\n",
       "      <td>6117058c3931</td>\n",
       "      <td>b74f81d65e79</td>\n",
       "      <td>DX</td>\n",
       "      <td>M</td>\n",
       "      <td>CHEST</td>\n",
       "      <td>MONOCHROME2</td>\n",
       "      <td>3032.0</td>\n",
       "      <td>3032.0</td>\n",
       "    </tr>\n",
       "    <tr>\n",
       "      <th>2</th>\n",
       "      <td>/app/_data/test/b83eaac8a377/326c25201eea/1c13...</td>\n",
       "      <td>b83eaac8a377</td>\n",
       "      <td>1c13336fc8a9</td>\n",
       "      <td>DX</td>\n",
       "      <td>M</td>\n",
       "      <td>CHEST</td>\n",
       "      <td>MONOCHROME2</td>\n",
       "      <td>3032.0</td>\n",
       "      <td>2520.0</td>\n",
       "    </tr>\n",
       "    <tr>\n",
       "      <th>3</th>\n",
       "      <td>/app/_data/test/9fab41ffbc39/5b8d372f6714/fa0c...</td>\n",
       "      <td>9fab41ffbc39</td>\n",
       "      <td>fa0c84ee4577</td>\n",
       "      <td>CR</td>\n",
       "      <td>F</td>\n",
       "      <td>CHEST</td>\n",
       "      <td>MONOCHROME1</td>\n",
       "      <td>4240.0</td>\n",
       "      <td>3480.0</td>\n",
       "    </tr>\n",
       "    <tr>\n",
       "      <th>4</th>\n",
       "      <td>/app/_data/test/4e4ee0341fab/70ae5f9ad500/dc68...</td>\n",
       "      <td>4e4ee0341fab</td>\n",
       "      <td>dc6834a1efa6</td>\n",
       "      <td>CR</td>\n",
       "      <td>F</td>\n",
       "      <td>CHEST</td>\n",
       "      <td>MONOCHROME2</td>\n",
       "      <td>2621.0</td>\n",
       "      <td>2597.0</td>\n",
       "    </tr>\n",
       "  </tbody>\n",
       "</table>\n",
       "</div>"
      ],
      "text/plain": [
       "                                                path StudyInstanceUID  \\\n",
       "0  /app/_data/test/fe64182ae21d/d56579abcb25/a82c...     fe64182ae21d   \n",
       "1  /app/_data/test/6117058c3931/d51d2a5e7f7a/b74f...     6117058c3931   \n",
       "2  /app/_data/test/b83eaac8a377/326c25201eea/1c13...     b83eaac8a377   \n",
       "3  /app/_data/test/9fab41ffbc39/5b8d372f6714/fa0c...     9fab41ffbc39   \n",
       "4  /app/_data/test/4e4ee0341fab/70ae5f9ad500/dc68...     4e4ee0341fab   \n",
       "\n",
       "       id_image modality PatientSex BodyPartExamined  \\\n",
       "0  a82ca8f37fb6       CR          F            CHEST   \n",
       "1  b74f81d65e79       DX          M            CHEST   \n",
       "2  1c13336fc8a9       DX          M            CHEST   \n",
       "3  fa0c84ee4577       CR          F            CHEST   \n",
       "4  dc6834a1efa6       CR          F            CHEST   \n",
       "\n",
       "  PhotometricInterpretation   width  height  \n",
       "0               MONOCHROME2  4248.0  3480.0  \n",
       "1               MONOCHROME2  3032.0  3032.0  \n",
       "2               MONOCHROME2  3032.0  2520.0  \n",
       "3               MONOCHROME1  4240.0  3480.0  \n",
       "4               MONOCHROME2  2621.0  2597.0  "
      ]
     },
     "execution_count": 4,
     "metadata": {},
     "output_type": "execute_result"
    }
   ],
   "source": [
    "# shutil.rmtree(\"/app/_data/tmp/\")\n",
    "test_df = Test.prepare_data(\n",
    "    data_path=TEST_PATH,\n",
    "    path_to_save=TEST_JPG_PATH,\n",
    "    train_mode=TRAIN_MODE,\n",
    "    n_train_sample=10,\n",
    "    jpg=True\n",
    ")\n",
    "test_df.head()"
   ]
  },
  {
   "cell_type": "code",
   "execution_count": 5,
   "metadata": {},
   "outputs": [
    {
     "data": {
      "text/plain": [
       "['36ba388a18df.jpg',\n",
       " 'fa0c84ee4577.jpg',\n",
       " '64ea82b1343f.png',\n",
       " '64ea82b1343f.jpg',\n",
       " 'eff9f15c7e9b.png',\n",
       " 'acc3e6eff7c8.png',\n",
       " 'dc6834a1efa6.png',\n",
       " '36ba388a18df.png',\n",
       " '87d8baf120a6.png',\n",
       " '1c13336fc8a9.jpg',\n",
       " 'dc6834a1efa6.jpg',\n",
       " 'fa0c84ee4577.png',\n",
       " 'acc3e6eff7c8.jpg',\n",
       " 'b74f81d65e79.png',\n",
       " 'a82ca8f37fb6.png',\n",
       " 'a82ca8f37fb6.jpg',\n",
       " '87d8baf120a6.jpg',\n",
       " 'eff9f15c7e9b.jpg',\n",
       " 'b74f81d65e79.jpg',\n",
       " '1c13336fc8a9.png']"
      ]
     },
     "execution_count": 5,
     "metadata": {},
     "output_type": "execute_result"
    }
   ],
   "source": [
    "os.listdir('/app/_data/tmp/')"
   ]
  },
  {
   "cell_type": "code",
   "execution_count": 17,
   "metadata": {
    "tags": []
   },
   "outputs": [
    {
     "name": "stdout",
     "output_type": "stream",
     "text": [
      "359109 230 0 225 0\n",
      "321834 254 0 255 0\n",
      "270942 255 0 255 0\n",
      "279249 204 0 199 0\n",
      "224685 246 0 244 0\n",
      "678192 254 0 254 0\n",
      "254400 255 0 255 0\n",
      "437775 255 1 255 0\n",
      "345678 255 0 255 0\n",
      "212094 254 0 249 0\n"
     ]
    }
   ],
   "source": [
    "for img_name in test_df.id_image.tolist():\n",
    "    img = tf.io.read_file('/app/_data/tmp/' + img_name + \".png\")\n",
    "    img = tf.image.decode_png(img, channels=3)\n",
    "    img_jpg = tf.io.read_file('/app/_data/tmp/' + img_name + \".jpg\")\n",
    "    img_jpg = tf.image.decode_jpeg(img_jpg, channels=3)\n",
    "    img = tf.image.resize(\n",
    "        img,\n",
    "        (600, 600),\n",
    "    )\n",
    "    img = tf.cast(img, tf.uint8)\n",
    "    img = img.numpy()\n",
    "    img_jpg = tf.image.resize(\n",
    "        img_jpg,\n",
    "        (600, 600),\n",
    "    )\n",
    "    img_jpg = tf.cast(img_jpg, tf.uint8)\n",
    "    img_jpg = img_jpg.numpy()\n",
    "    print(np.sum(img==img_jpg), img.max(), img.min(), img_jpg.max(), img_jpg.min())"
   ]
  },
  {
   "cell_type": "code",
   "execution_count": null,
   "metadata": {},
   "outputs": [],
   "source": [
    "              if self.png:\n",
    "                    img = tf.io.read_file(self.jpg_path + img_name + \".png\")\n",
    "                    img = tf.image.decode_png(img, channels=3)\n",
    "                elif self.jpg:\n",
    "                    img = tf.io.read_file(self.jpg_path + img_name + \".jpg\")\n",
    "                    img = tf.image.decode_jpeg(img, channels=3)\n",
    "                img = tf.cast(img, tf.float32) / 255.0\n",
    "                img = tf.image.resize(\n",
    "                    img,\n",
    "                    (self.img_size, self.img_size),\n",
    "                ) * 255\n",
    "                img = tf.cast(img, tf.uint8)\n",
    "                img = img.numpy()"
   ]
  },
  {
   "cell_type": "code",
   "execution_count": null,
   "metadata": {},
   "outputs": [],
   "source": []
  },
  {
   "cell_type": "code",
   "execution_count": null,
   "metadata": {},
   "outputs": [],
   "source": []
  },
  {
   "cell_type": "code",
   "execution_count": 5,
   "metadata": {
    "tags": []
   },
   "outputs": [
    {
     "name": "stdout",
     "output_type": "stream",
     "text": [
      "(1, 600, 600, 3)\n"
     ]
    },
    {
     "data": {
      "image/png": "[encoded data removed]",
      "text/plain": [
       "<Figure size 432x288 with 1 Axes>"
      ]
     },
     "metadata": {
      "image/png": {
       "height": 235,
       "width": 235
      }
     },
     "output_type": "display_data"
    },
    {
     "name": "stdout",
     "output_type": "stream",
     "text": [
      "INFO:tensorflow:Mixed precision compatibility check (mixed_float16): OK\n",
      "Your GPU will likely run quickly with dtype policy mixed_float16 as it has compute capability of at least 7.0. Your GPU: NVIDIA GeForce RTX 3090, compute capability 8.6\n"
     ]
    },
    {
     "name": "stderr",
     "output_type": "stream",
     "text": [
      "100%|██████████| 51/51 [01:47<00:00,  2.11s/it]\n"
     ]
    },
    {
     "data": {
      "text/html": [
       "<div>\n",
       "<style scoped>\n",
       "    .dataframe tbody tr th:only-of-type {\n",
       "        vertical-align: middle;\n",
       "    }\n",
       "\n",
       "    .dataframe tbody tr th {\n",
       "        vertical-align: top;\n",
       "    }\n",
       "\n",
       "    .dataframe thead th {\n",
       "        text-align: right;\n",
       "    }\n",
       "</style>\n",
       "<table border=\"1\" class=\"dataframe\">\n",
       "  <thead>\n",
       "    <tr style=\"text-align: right;\">\n",
       "      <th></th>\n",
       "      <th>id</th>\n",
       "      <th>PredictionString</th>\n",
       "    </tr>\n",
       "  </thead>\n",
       "  <tbody>\n",
       "    <tr>\n",
       "      <th>0</th>\n",
       "      <td>00be7de16711_study</td>\n",
       "      <td>negative 0.05375 0 0 1 1 typical 0.69109 0 0 1...</td>\n",
       "    </tr>\n",
       "    <tr>\n",
       "      <th>1</th>\n",
       "      <td>0b6af2d5fa06_study</td>\n",
       "      <td>negative 0.97679 0 0 1 1 typical 0.00466 0 0 1...</td>\n",
       "    </tr>\n",
       "    <tr>\n",
       "      <th>2</th>\n",
       "      <td>0fa7372c4120_study</td>\n",
       "      <td>negative 0.00155 0 0 1 1 typical 0.94755 0 0 1...</td>\n",
       "    </tr>\n",
       "    <tr>\n",
       "      <th>3</th>\n",
       "      <td>163abcbc5d4a_study</td>\n",
       "      <td>negative 0.06985 0 0 1 1 typical 0.52994 0 0 1...</td>\n",
       "    </tr>\n",
       "    <tr>\n",
       "      <th>4</th>\n",
       "      <td>18acddb9abb7_study</td>\n",
       "      <td>negative 0.96296 0 0 1 1 typical 0.0071 0 0 1 ...</td>\n",
       "    </tr>\n",
       "    <tr>\n",
       "      <th>5</th>\n",
       "      <td>1d7b78acc1ff_study</td>\n",
       "      <td>negative 0.31798 0 0 1 1 typical 0.15568 0 0 1...</td>\n",
       "    </tr>\n",
       "    <tr>\n",
       "      <th>6</th>\n",
       "      <td>1d8b4a15135f_study</td>\n",
       "      <td>negative 0.70565 0 0 1 1 typical 0.02494 0 0 1...</td>\n",
       "    </tr>\n",
       "    <tr>\n",
       "      <th>7</th>\n",
       "      <td>1f816ad2d311_study</td>\n",
       "      <td>negative 0.00037 0 0 1 1 typical 0.84192 0 0 1...</td>\n",
       "    </tr>\n",
       "    <tr>\n",
       "      <th>8</th>\n",
       "      <td>21119216b217_study</td>\n",
       "      <td>negative 0.22442 0 0 1 1 typical 0.08827 0 0 1...</td>\n",
       "    </tr>\n",
       "    <tr>\n",
       "      <th>9</th>\n",
       "      <td>215d5a459a13_study</td>\n",
       "      <td>negative 0.00061 0 0 1 1 typical 0.99168 0 0 1...</td>\n",
       "    </tr>\n",
       "  </tbody>\n",
       "</table>\n",
       "</div>"
      ],
      "text/plain": [
       "                   id                                   PredictionString\n",
       "0  00be7de16711_study  negative 0.05375 0 0 1 1 typical 0.69109 0 0 1...\n",
       "1  0b6af2d5fa06_study  negative 0.97679 0 0 1 1 typical 0.00466 0 0 1...\n",
       "2  0fa7372c4120_study  negative 0.00155 0 0 1 1 typical 0.94755 0 0 1...\n",
       "3  163abcbc5d4a_study  negative 0.06985 0 0 1 1 typical 0.52994 0 0 1...\n",
       "4  18acddb9abb7_study  negative 0.96296 0 0 1 1 typical 0.0071 0 0 1 ...\n",
       "5  1d7b78acc1ff_study  negative 0.31798 0 0 1 1 typical 0.15568 0 0 1...\n",
       "6  1d8b4a15135f_study  negative 0.70565 0 0 1 1 typical 0.02494 0 0 1...\n",
       "7  1f816ad2d311_study  negative 0.00037 0 0 1 1 typical 0.84192 0 0 1...\n",
       "8  21119216b217_study  negative 0.22442 0 0 1 1 typical 0.08827 0 0 1...\n",
       "9  215d5a459a13_study  negative 0.00061 0 0 1 1 typical 0.99168 0 0 1..."
      ]
     },
     "execution_count": 5,
     "metadata": {},
     "output_type": "execute_result"
    },
    {
     "data": {
      "text/html": [
       "<div>\n",
       "<style scoped>\n",
       "    .dataframe tbody tr th:only-of-type {\n",
       "        vertical-align: middle;\n",
       "    }\n",
       "\n",
       "    .dataframe tbody tr th {\n",
       "        vertical-align: top;\n",
       "    }\n",
       "\n",
       "    .dataframe thead th {\n",
       "        text-align: right;\n",
       "    }\n",
       "</style>\n",
       "<table border=\"1\" class=\"dataframe\">\n",
       "  <thead>\n",
       "    <tr style=\"text-align: right;\">\n",
       "      <th></th>\n",
       "      <th>path</th>\n",
       "      <th>StudyInstanceUID</th>\n",
       "      <th>id_image</th>\n",
       "      <th>modality</th>\n",
       "      <th>PatientSex</th>\n",
       "      <th>BodyPartExamined</th>\n",
       "      <th>PhotometricInterpretation</th>\n",
       "      <th>width</th>\n",
       "      <th>height</th>\n",
       "      <th>negative</th>\n",
       "      <th>typical</th>\n",
       "      <th>indeterminate</th>\n",
       "      <th>atypical</th>\n",
       "      <th>negative_2cl</th>\n",
       "    </tr>\n",
       "  </thead>\n",
       "  <tbody>\n",
       "    <tr>\n",
       "      <th>0</th>\n",
       "      <td>/app/_data/test/fe64182ae21d/d56579abcb25/a82c...</td>\n",
       "      <td>fe64182ae21d</td>\n",
       "      <td>a82ca8f37fb6</td>\n",
       "      <td>CR</td>\n",
       "      <td>F</td>\n",
       "      <td>CHEST</td>\n",
       "      <td>MONOCHROME2</td>\n",
       "      <td>4248.0</td>\n",
       "      <td>3480.0</td>\n",
       "      <td>0.018876</td>\n",
       "      <td>0.767393</td>\n",
       "      <td>0.120930</td>\n",
       "      <td>0.080063</td>\n",
       "      <td>0.005692</td>\n",
       "    </tr>\n",
       "    <tr>\n",
       "      <th>1</th>\n",
       "      <td>/app/_data/test/6117058c3931/d51d2a5e7f7a/b74f...</td>\n",
       "      <td>6117058c3931</td>\n",
       "      <td>b74f81d65e79</td>\n",
       "      <td>DX</td>\n",
       "      <td>M</td>\n",
       "      <td>CHEST</td>\n",
       "      <td>MONOCHROME2</td>\n",
       "      <td>3032.0</td>\n",
       "      <td>3032.0</td>\n",
       "      <td>0.006079</td>\n",
       "      <td>0.899384</td>\n",
       "      <td>0.100281</td>\n",
       "      <td>0.030940</td>\n",
       "      <td>0.021530</td>\n",
       "    </tr>\n",
       "    <tr>\n",
       "      <th>2</th>\n",
       "      <td>/app/_data/test/b83eaac8a377/326c25201eea/1c13...</td>\n",
       "      <td>b83eaac8a377</td>\n",
       "      <td>1c13336fc8a9</td>\n",
       "      <td>DX</td>\n",
       "      <td>M</td>\n",
       "      <td>CHEST</td>\n",
       "      <td>MONOCHROME2</td>\n",
       "      <td>3032.0</td>\n",
       "      <td>2520.0</td>\n",
       "      <td>0.002575</td>\n",
       "      <td>0.837961</td>\n",
       "      <td>0.314782</td>\n",
       "      <td>0.107710</td>\n",
       "      <td>0.000937</td>\n",
       "    </tr>\n",
       "    <tr>\n",
       "      <th>3</th>\n",
       "      <td>/app/_data/test/9fab41ffbc39/5b8d372f6714/fa0c...</td>\n",
       "      <td>9fab41ffbc39</td>\n",
       "      <td>fa0c84ee4577</td>\n",
       "      <td>CR</td>\n",
       "      <td>F</td>\n",
       "      <td>CHEST</td>\n",
       "      <td>MONOCHROME1</td>\n",
       "      <td>4240.0</td>\n",
       "      <td>3480.0</td>\n",
       "      <td>0.003786</td>\n",
       "      <td>0.961311</td>\n",
       "      <td>0.053046</td>\n",
       "      <td>0.008459</td>\n",
       "      <td>0.000072</td>\n",
       "    </tr>\n",
       "    <tr>\n",
       "      <th>4</th>\n",
       "      <td>/app/_data/test/4e4ee0341fab/70ae5f9ad500/dc68...</td>\n",
       "      <td>4e4ee0341fab</td>\n",
       "      <td>dc6834a1efa6</td>\n",
       "      <td>CR</td>\n",
       "      <td>F</td>\n",
       "      <td>CHEST</td>\n",
       "      <td>MONOCHROME2</td>\n",
       "      <td>2621.0</td>\n",
       "      <td>2597.0</td>\n",
       "      <td>0.168862</td>\n",
       "      <td>0.020496</td>\n",
       "      <td>0.129497</td>\n",
       "      <td>0.608383</td>\n",
       "      <td>0.474854</td>\n",
       "    </tr>\n",
       "    <tr>\n",
       "      <th>5</th>\n",
       "      <td>/app/_data/test/5a74a91d9877/25998b541988/eff9...</td>\n",
       "      <td>5a74a91d9877</td>\n",
       "      <td>eff9f15c7e9b</td>\n",
       "      <td>DX</td>\n",
       "      <td>M</td>\n",
       "      <td>TORAX</td>\n",
       "      <td>MONOCHROME2</td>\n",
       "      <td>3712.0</td>\n",
       "      <td>3395.0</td>\n",
       "      <td>0.034563</td>\n",
       "      <td>0.758463</td>\n",
       "      <td>0.145910</td>\n",
       "      <td>0.040297</td>\n",
       "      <td>0.000218</td>\n",
       "    </tr>\n",
       "    <tr>\n",
       "      <th>6</th>\n",
       "      <td>/app/_data/test/e43ccd956545/64ed4d9be391/87d8...</td>\n",
       "      <td>e43ccd956545</td>\n",
       "      <td>87d8baf120a6</td>\n",
       "      <td>CR</td>\n",
       "      <td>M</td>\n",
       "      <td>CHEST</td>\n",
       "      <td>MONOCHROME2</td>\n",
       "      <td>4240.0</td>\n",
       "      <td>3480.0</td>\n",
       "      <td>0.005102</td>\n",
       "      <td>0.652132</td>\n",
       "      <td>0.212211</td>\n",
       "      <td>0.067729</td>\n",
       "      <td>0.004105</td>\n",
       "    </tr>\n",
       "    <tr>\n",
       "      <th>7</th>\n",
       "      <td>/app/_data/test/a8fe3043e449/73453ff7181d/64ea...</td>\n",
       "      <td>a8fe3043e449</td>\n",
       "      <td>64ea82b1343f</td>\n",
       "      <td>DX</td>\n",
       "      <td>M</td>\n",
       "      <td>CHEST</td>\n",
       "      <td>MONOCHROME2</td>\n",
       "      <td>4256.0</td>\n",
       "      <td>3488.0</td>\n",
       "      <td>0.021226</td>\n",
       "      <td>0.563361</td>\n",
       "      <td>0.218275</td>\n",
       "      <td>0.104258</td>\n",
       "      <td>0.007504</td>\n",
       "    </tr>\n",
       "    <tr>\n",
       "      <th>8</th>\n",
       "      <td>/app/_data/test/1d8b4a15135f/cfe99f0be9cb/acc3...</td>\n",
       "      <td>1d8b4a15135f</td>\n",
       "      <td>acc3e6eff7c8</td>\n",
       "      <td>DX</td>\n",
       "      <td>M</td>\n",
       "      <td>CHEST</td>\n",
       "      <td>MONOCHROME2</td>\n",
       "      <td>2979.0</td>\n",
       "      <td>2837.0</td>\n",
       "      <td>0.705646</td>\n",
       "      <td>0.024936</td>\n",
       "      <td>0.060422</td>\n",
       "      <td>0.223057</td>\n",
       "      <td>0.633789</td>\n",
       "    </tr>\n",
       "    <tr>\n",
       "      <th>9</th>\n",
       "      <td>/app/_data/test/994aa93b88d6/2138dd9d65e4/36ba...</td>\n",
       "      <td>994aa93b88d6</td>\n",
       "      <td>36ba388a18df</td>\n",
       "      <td>CR</td>\n",
       "      <td>M</td>\n",
       "      <td>CHEST</td>\n",
       "      <td>MONOCHROME2</td>\n",
       "      <td>4248.0</td>\n",
       "      <td>3480.0</td>\n",
       "      <td>0.000487</td>\n",
       "      <td>0.906468</td>\n",
       "      <td>0.092248</td>\n",
       "      <td>0.008052</td>\n",
       "      <td>0.000882</td>\n",
       "    </tr>\n",
       "  </tbody>\n",
       "</table>\n",
       "</div>"
      ],
      "text/plain": [
       "                                                path StudyInstanceUID  \\\n",
       "0  /app/_data/test/fe64182ae21d/d56579abcb25/a82c...     fe64182ae21d   \n",
       "1  /app/_data/test/6117058c3931/d51d2a5e7f7a/b74f...     6117058c3931   \n",
       "2  /app/_data/test/b83eaac8a377/326c25201eea/1c13...     b83eaac8a377   \n",
       "3  /app/_data/test/9fab41ffbc39/5b8d372f6714/fa0c...     9fab41ffbc39   \n",
       "4  /app/_data/test/4e4ee0341fab/70ae5f9ad500/dc68...     4e4ee0341fab   \n",
       "5  /app/_data/test/5a74a91d9877/25998b541988/eff9...     5a74a91d9877   \n",
       "6  /app/_data/test/e43ccd956545/64ed4d9be391/87d8...     e43ccd956545   \n",
       "7  /app/_data/test/a8fe3043e449/73453ff7181d/64ea...     a8fe3043e449   \n",
       "8  /app/_data/test/1d8b4a15135f/cfe99f0be9cb/acc3...     1d8b4a15135f   \n",
       "9  /app/_data/test/994aa93b88d6/2138dd9d65e4/36ba...     994aa93b88d6   \n",
       "\n",
       "       id_image modality PatientSex BodyPartExamined  \\\n",
       "0  a82ca8f37fb6       CR          F            CHEST   \n",
       "1  b74f81d65e79       DX          M            CHEST   \n",
       "2  1c13336fc8a9       DX          M            CHEST   \n",
       "3  fa0c84ee4577       CR          F            CHEST   \n",
       "4  dc6834a1efa6       CR          F            CHEST   \n",
       "5  eff9f15c7e9b       DX          M            TORAX   \n",
       "6  87d8baf120a6       CR          M            CHEST   \n",
       "7  64ea82b1343f       DX          M            CHEST   \n",
       "8  acc3e6eff7c8       DX          M            CHEST   \n",
       "9  36ba388a18df       CR          M            CHEST   \n",
       "\n",
       "  PhotometricInterpretation   width  height  negative   typical  \\\n",
       "0               MONOCHROME2  4248.0  3480.0  0.018876  0.767393   \n",
       "1               MONOCHROME2  3032.0  3032.0  0.006079  0.899384   \n",
       "2               MONOCHROME2  3032.0  2520.0  0.002575  0.837961   \n",
       "3               MONOCHROME1  4240.0  3480.0  0.003786  0.961311   \n",
       "4               MONOCHROME2  2621.0  2597.0  0.168862  0.020496   \n",
       "5               MONOCHROME2  3712.0  3395.0  0.034563  0.758463   \n",
       "6               MONOCHROME2  4240.0  3480.0  0.005102  0.652132   \n",
       "7               MONOCHROME2  4256.0  3488.0  0.021226  0.563361   \n",
       "8               MONOCHROME2  2979.0  2837.0  0.705646  0.024936   \n",
       "9               MONOCHROME2  4248.0  3480.0  0.000487  0.906468   \n",
       "\n",
       "   indeterminate  atypical  negative_2cl  \n",
       "0       0.120930  0.080063      0.005692  \n",
       "1       0.100281  0.030940      0.021530  \n",
       "2       0.314782  0.107710      0.000937  \n",
       "3       0.053046  0.008459      0.000072  \n",
       "4       0.129497  0.608383      0.474854  \n",
       "5       0.145910  0.040297      0.000218  \n",
       "6       0.212211  0.067729      0.004105  \n",
       "7       0.218275  0.104258      0.007504  \n",
       "8       0.060422  0.223057      0.633789  \n",
       "9       0.092248  0.008052      0.000882  "
      ]
     },
     "execution_count": 5,
     "metadata": {},
     "output_type": "execute_result"
    }
   ],
   "source": [
    "tf.keras.backend.clear_session()\n",
    "\n",
    "if not OBJ_DET:\n",
    "    sub_study, sub_image, test_df = Test.make_classification(\n",
    "        test_df_=test_df,\n",
    "        jpg_path=TEST_JPG_PATH,\n",
    "        metadata_path=METADATA_PATH,\n",
    "        model_path=MODEL_PATH,\n",
    "        labels=labels,\n",
    "        img_from_folder=IMG_FROM_FOLDER,\n",
    "        obj_det=OBJ_DET,\n",
    "        classification=CLASSIFICATION,\n",
    "        img_size=600,\n",
    "        model_2cl_path=MODEL_2CL_PATH,\n",
    "        n_inputs=2,\n",
    "    )\n",
    "    sub_image.head()\n",
    "else:\n",
    "    sub_study, test_df = Test.make_classification(\n",
    "        test_df_=test_df,\n",
    "        jpg_path=TEST_JPG_PATH,\n",
    "        metadata_path=METADATA_PATH,\n",
    "        model_path=MODEL_PATH,\n",
    "        labels=labels,\n",
    "        img_from_folder=IMG_FROM_FOLDER,\n",
    "        obj_det=OBJ_DET,\n",
    "        classification=CLASSIFICATION,\n",
    "        img_size=600,\n",
    "        model_2cl_path=MODEL_2CL_PATH,\n",
    "        n_inputs=2,\n",
    "    )\n",
    "sub_study.head(10)\n",
    "test_df.head(10)"
   ]
  },
  {
   "cell_type": "code",
   "execution_count": 9,
   "metadata": {},
   "outputs": [],
   "source": [
    "gen2 = Generator(\n",
    "    df=test_df,\n",
    "    img_size=600,\n",
    "    jpg_path=TEST_JPG_PATH,\n",
    "    metadata_path=METADATA_PATH,\n",
    "    img_from_folder=True,\n",
    "    batch_size=1,\n",
    "    n_inputs=2,\n",
    ")"
   ]
  },
  {
   "cell_type": "code",
   "execution_count": 18,
   "metadata": {},
   "outputs": [],
   "source": [
    "g = gen2.__getitem__(8)"
   ]
  },
  {
   "cell_type": "code",
   "execution_count": 19,
   "metadata": {},
   "outputs": [
    {
     "data": {
      "text/plain": [
       "{'img': array([[[[ 17,  17,  17],\n",
       "          [ 17,  17,  17],\n",
       "          [ 17,  17,  17],\n",
       "          ...,\n",
       "          [  7,   7,   7],\n",
       "          [  6,   6,   6],\n",
       "          [  9,   9,   9]],\n",
       " \n",
       "         [[ 12,  12,  12],\n",
       "          [ 12,  12,  12],\n",
       "          [ 12,  12,  12],\n",
       "          ...,\n",
       "          [  7,   7,   7],\n",
       "          [  6,   6,   6],\n",
       "          [  9,   9,   9]],\n",
       " \n",
       "         [[  9,   9,   9],\n",
       "          [  9,   9,   9],\n",
       "          [  9,   9,   9],\n",
       "          ...,\n",
       "          [  7,   7,   7],\n",
       "          [  8,   8,   8],\n",
       "          [  6,   6,   6]],\n",
       " \n",
       "         ...,\n",
       " \n",
       "         [[  1,   1,   1],\n",
       "          [251, 251, 251],\n",
       "          [249, 249, 249],\n",
       "          ...,\n",
       "          [156, 156, 156],\n",
       "          [152, 152, 152],\n",
       "          [156, 156, 156]],\n",
       " \n",
       "         [[  4,   4,   4],\n",
       "          [  6,   6,   6],\n",
       "          [  0,   0,   0],\n",
       "          ...,\n",
       "          [166, 166, 166],\n",
       "          [161, 161, 161],\n",
       "          [160, 160, 160]],\n",
       " \n",
       "         [[  0,   0,   0],\n",
       "          [  0,   0,   0],\n",
       "          [  0,   0,   0],\n",
       "          ...,\n",
       "          [174, 174, 174],\n",
       "          [171, 171, 171],\n",
       "          [167, 167, 167]]]], dtype=uint8),\n",
       " 'data': array([[0, 1, 0, 0, 0, 1, 0, 0, 0, 0, 0, 0, 0, 0, 0, 0, 1, 0]],\n",
       "       dtype=uint8)}"
      ]
     },
     "execution_count": 19,
     "metadata": {},
     "output_type": "execute_result"
    }
   ],
   "source": [
    "g"
   ]
  },
  {
   "cell_type": "code",
   "execution_count": 12,
   "metadata": {},
   "outputs": [
    {
     "name": "stdout",
     "output_type": "stream",
     "text": [
      "EffB7_2cl_2.h5\n",
      "EffB7_2cl_1.h5\n",
      "EffB7_2cl_0.h5\n",
      "EffB7_2cl_4.h5\n",
      "EffB7_2cl_3.h5\n"
     ]
    }
   ],
   "source": [
    "mod_path = \"/app/_data/models/EffB7_2class_1/\"\n",
    "m = []\n",
    "for file in os.listdir(mod_path):\n",
    "    if \".h5\" in file:\n",
    "        print(file)\n",
    "        m.append(keras.models.load_model(mod_path + file))"
   ]
  },
  {
   "cell_type": "code",
   "execution_count": 20,
   "metadata": {},
   "outputs": [
    {
     "data": {
      "text/plain": [
       "array([0.931  , 0.06903], dtype=float16)"
      ]
     },
     "execution_count": 20,
     "metadata": {},
     "output_type": "execute_result"
    },
    {
     "data": {
      "text/plain": [
       "array([0.517, 0.483], dtype=float16)"
      ]
     },
     "execution_count": 20,
     "metadata": {},
     "output_type": "execute_result"
    },
    {
     "data": {
      "text/plain": [
       "array([0.79176676, 0.20823325], dtype=float32)"
      ]
     },
     "execution_count": 20,
     "metadata": {},
     "output_type": "execute_result"
    },
    {
     "data": {
      "text/plain": [
       "array([0.478, 0.522], dtype=float16)"
      ]
     },
     "execution_count": 20,
     "metadata": {},
     "output_type": "execute_result"
    },
    {
     "data": {
      "text/plain": [
       "array([0.906  , 0.09436], dtype=float16)"
      ]
     },
     "execution_count": 20,
     "metadata": {},
     "output_type": "execute_result"
    }
   ],
   "source": [
    "m[0](g).numpy()[0]\n",
    "m[1](g).numpy()[0]\n",
    "m[2](g).numpy()[0]\n",
    "m[3](g).numpy()[0]\n",
    "m[4](g).numpy()[0]"
   ]
  },
  {
   "cell_type": "code",
   "execution_count": 5,
   "metadata": {},
   "outputs": [
    {
     "data": {
      "text/plain": [
       "0.6336666666666667"
      ]
     },
     "execution_count": 5,
     "metadata": {},
     "output_type": "execute_result"
    }
   ],
   "source": [
    "(0.517 + 0.478 + 0.906) / 3"
   ]
  },
  {
   "cell_type": "code",
   "execution_count": null,
   "metadata": {},
   "outputs": [],
   "source": [
    "(m[1](g).numpy()[0][0] + m[3](g).numpy()[0][0] + m[4](g).numpy()[0][0]) / 3"
   ]
  },
  {
   "cell_type": "code",
   "execution_count": 21,
   "metadata": {},
   "outputs": [
    {
     "data": {
      "text/plain": [
       "0.7247596"
      ]
     },
     "execution_count": 21,
     "metadata": {},
     "output_type": "execute_result"
    }
   ],
   "source": [
    "c = np.mean([model(g).numpy()[0][0] for model in m])\n",
    "c"
   ]
  },
  {
   "cell_type": "code",
   "execution_count": 13,
   "metadata": {},
   "outputs": [
    {
     "data": {
      "text/plain": [
       "[array([0.6943, 0.3057], dtype=float16),\n",
       " array([0.719, 0.281], dtype=float16),\n",
       " array([0.2816995, 0.7183005], dtype=float32),\n",
       " array([0.006462, 0.9937  ], dtype=float16),\n",
       " array([0.699, 0.301], dtype=float16)]"
      ]
     },
     "execution_count": 13,
     "metadata": {},
     "output_type": "execute_result"
    }
   ],
   "source": [
    "([model(g).numpy()[0] for model in m])"
   ]
  },
  {
   "cell_type": "code",
   "execution_count": 17,
   "metadata": {},
   "outputs": [
    {
     "data": {
      "text/plain": [
       "0.4800923"
      ]
     },
     "execution_count": 17,
     "metadata": {},
     "output_type": "execute_result"
    }
   ],
   "source": [
    "(0.6943 + 0.719 + 0.2816995 + 0.006462 + 0.699) / 5"
   ]
  },
  {
   "cell_type": "code",
   "execution_count": 18,
   "metadata": {},
   "outputs": [
    {
     "name": "stdout",
     "output_type": "stream",
     "text": [
      "EffB7_3.h5\n",
      "EffB7_0.h5\n",
      "EffB7_1.h5\n",
      "EffB7_2.h5\n"
     ]
    }
   ],
   "source": [
    "MODEL_PATH = \"/app/_data/models/EffB7_init/\"\n",
    "m = []\n",
    "for file in os.listdir(MODEL_PATH):\n",
    "    if \".h5\" in file:\n",
    "        print(file)\n",
    "        m.append(keras.models.load_model(MODEL_PATH + file))"
   ]
  },
  {
   "cell_type": "code",
   "execution_count": 20,
   "metadata": {},
   "outputs": [
    {
     "data": {
      "text/plain": [
       "array([0.00684637, 0.00405944, 0.01655805, 0.7818206 ], dtype=float32)"
      ]
     },
     "execution_count": 20,
     "metadata": {},
     "output_type": "execute_result"
    },
    {
     "data": {
      "text/plain": [
       "array([0.02202711, 0.03989942, 0.26228774, 0.6006486 ], dtype=float32)"
      ]
     },
     "execution_count": 20,
     "metadata": {},
     "output_type": "execute_result"
    },
    {
     "data": {
      "text/plain": [
       "array([0.00126375, 0.00234046, 0.0095786 , 0.9861438 ], dtype=float32)"
      ]
     },
     "execution_count": 20,
     "metadata": {},
     "output_type": "execute_result"
    },
    {
     "data": {
      "text/plain": [
       "array([0.6453095 , 0.03568565, 0.2295647 , 0.06491929], dtype=float32)"
      ]
     },
     "execution_count": 20,
     "metadata": {},
     "output_type": "execute_result"
    }
   ],
   "source": [
    "m[0](g).numpy()[0]\n",
    "m[1](g).numpy()[0]\n",
    "m[2](g).numpy()[0]\n",
    "m[3](g).numpy()[0]"
   ]
  },
  {
   "cell_type": "code",
   "execution_count": 23,
   "metadata": {},
   "outputs": [
    {
     "data": {
      "text/plain": [
       "array([0.16886169, 0.02049624, 0.12949727, 0.60838306], dtype=float32)"
      ]
     },
     "execution_count": 23,
     "metadata": {},
     "output_type": "execute_result"
    }
   ],
   "source": [
    "c = np.mean([model(g).numpy()[0] for model in m], axis=0)\n",
    "c"
   ]
  },
  {
   "cell_type": "markdown",
   "metadata": {},
   "source": [
    "# yolo"
   ]
  },
  {
   "cell_type": "code",
   "execution_count": 6,
   "metadata": {
    "tags": []
   },
   "outputs": [
    {
     "name": "stdout",
     "output_type": "stream",
     "text": [
      "/app/_data/ScaledYOLOv4/mish-cuda\n",
      "running build\n",
      "running build_py\n",
      "running egg_info\n",
      "writing src/mish_cuda.egg-info/PKG-INFO\n",
      "writing dependency_links to src/mish_cuda.egg-info/dependency_links.txt\n",
      "writing requirements to src/mish_cuda.egg-info/requires.txt\n",
      "writing top-level names to src/mish_cuda.egg-info/top_level.txt\n",
      "/usr/local/lib/python3.8/dist-packages/torch/utils/cpp_extension.py:352: UserWarning: Attempted to use ninja as the BuildExtension backend but we could not find ninja.. Falling back to using the slow distutils backend.\n",
      "  warnings.warn(msg.format('we could not find ninja.'))\n",
      "reading manifest file 'src/mish_cuda.egg-info/SOURCES.txt'\n",
      "writing manifest file 'src/mish_cuda.egg-info/SOURCES.txt'\n",
      "warning: build_py: byte-compiling is disabled, skipping.\n",
      "\n",
      "running build_ext\n",
      "running install\n",
      "running bdist_egg\n",
      "installing library code to build/bdist.linux-x86_64/egg\n",
      "running install_lib\n",
      "creating build/bdist.linux-x86_64/egg\n",
      "creating build/bdist.linux-x86_64/egg/mish_cuda\n",
      "copying build/lib.linux-x86_64-3.8/mish_cuda/_C.cpython-38-x86_64-linux-gnu.so -> build/bdist.linux-x86_64/egg/mish_cuda\n",
      "copying build/lib.linux-x86_64-3.8/mish_cuda/__init__.py -> build/bdist.linux-x86_64/egg/mish_cuda\n",
      "warning: install_lib: byte-compiling is disabled, skipping.\n",
      "\n",
      "creating stub loader for mish_cuda/_C.cpython-38-x86_64-linux-gnu.so\n",
      "warning: install_lib: byte-compiling is disabled, skipping.\n",
      "\n",
      "creating build/bdist.linux-x86_64/egg/EGG-INFO\n",
      "copying src/mish_cuda.egg-info/PKG-INFO -> build/bdist.linux-x86_64/egg/EGG-INFO\n",
      "copying src/mish_cuda.egg-info/SOURCES.txt -> build/bdist.linux-x86_64/egg/EGG-INFO\n",
      "copying src/mish_cuda.egg-info/dependency_links.txt -> build/bdist.linux-x86_64/egg/EGG-INFO\n",
      "copying src/mish_cuda.egg-info/not-zip-safe -> build/bdist.linux-x86_64/egg/EGG-INFO\n",
      "copying src/mish_cuda.egg-info/requires.txt -> build/bdist.linux-x86_64/egg/EGG-INFO\n",
      "copying src/mish_cuda.egg-info/top_level.txt -> build/bdist.linux-x86_64/egg/EGG-INFO\n",
      "writing build/bdist.linux-x86_64/egg/EGG-INFO/native_libs.txt\n",
      "creating 'dist/mish_cuda-0.0.3-py3.8-linux-x86_64.egg' and adding 'build/bdist.linux-x86_64/egg' to it\n",
      "removing 'build/bdist.linux-x86_64/egg' (and everything under it)\n",
      "Processing mish_cuda-0.0.3-py3.8-linux-x86_64.egg\n",
      "removing '/usr/local/lib/python3.8/dist-packages/mish_cuda-0.0.3-py3.8-linux-x86_64.egg' (and everything under it)\n",
      "creating /usr/local/lib/python3.8/dist-packages/mish_cuda-0.0.3-py3.8-linux-x86_64.egg\n",
      "Extracting mish_cuda-0.0.3-py3.8-linux-x86_64.egg to /usr/local/lib/python3.8/dist-packages\n",
      "mish-cuda 0.0.3 is already the active version in easy-install.pth\n",
      "\n",
      "Installed /usr/local/lib/python3.8/dist-packages/mish_cuda-0.0.3-py3.8-linux-x86_64.egg\n",
      "Processing dependencies for mish-cuda==0.0.3\n",
      "Searching for torch==1.7.1+cu110\n",
      "Best match: torch 1.7.1+cu110\n",
      "Adding torch 1.7.1+cu110 to easy-install.pth file\n",
      "Installing convert-caffe2-to-onnx script to /usr/local/bin\n",
      "Installing convert-onnx-to-caffe2 script to /usr/local/bin\n",
      "\n",
      "Using /usr/local/lib/python3.8/dist-packages\n",
      "Searching for typing-extensions==3.7.4.3\n",
      "Best match: typing-extensions 3.7.4.3\n",
      "Adding typing-extensions 3.7.4.3 to easy-install.pth file\n",
      "\n",
      "Using /usr/local/lib/python3.8/dist-packages\n",
      "Searching for numpy==1.20.3\n",
      "Best match: numpy 1.20.3\n",
      "Adding numpy 1.20.3 to easy-install.pth file\n",
      "Installing f2py script to /usr/local/bin\n",
      "Installing f2py3 script to /usr/local/bin\n",
      "Installing f2py3.8 script to /usr/local/bin\n",
      "\n",
      "Using /usr/local/lib/python3.8/dist-packages\n",
      "Finished processing dependencies for mish-cuda==0.0.3\n",
      "/app/_data/ScaledYOLOv4\n"
     ]
    }
   ],
   "source": [
    "%cd /app/_data/ScaledYOLOv4/mish-cuda\n",
    "!python setup.py build install\n",
    "%cd /app/_data/ScaledYOLOv4"
   ]
  },
  {
   "cell_type": "code",
   "execution_count": 7,
   "metadata": {},
   "outputs": [],
   "source": [
    "device = cuda.get_current_device()\n",
    "device.reset()"
   ]
  },
  {
   "cell_type": "code",
   "execution_count": 8,
   "metadata": {
    "tags": []
   },
   "outputs": [
    {
     "name": "stdout",
     "output_type": "stream",
     "text": [
      "Namespace(agnostic_nms=False, augment=True, classes=None, conf_thres=0.3, device='', img_size=1024, iou_thres=0.5, output='/app/_data/tmp/labels/', save_txt=True, source='/app/_data/tmp', update=False, view_img=False, weights=['/app/_data/ScaledYOLOv4/runs/exp2_yolov4lp7_1/weights/best.pt', '/app/_data/yolov4p7weights/only_c_0_42_b.pt'])\n",
      "Using CUDA device0 _CudaDeviceProperties(name='NVIDIA GeForce RTX 3090', total_memory=24265MB)\n",
      "\n",
      "Fusing layers... Model Summary: 503 layers, 2.85956e+08 parameters, 2.7862e+08 gradients\n",
      "Fusing layers... Model Summary: 503 layers, 2.85956e+08 parameters, 2.7862e+08 gradients\n",
      "Ensemble created with ['/app/_data/ScaledYOLOv4/runs/exp2_yolov4lp7_1/weights/best.pt', '/app/_data/yolov4p7weights/only_c_0_42_b.pt']\n",
      "\n",
      "image 1/101 /app/_data/tmp/05e168e0d636.jpg: 1024x1024 Done. (0.428s)\n",
      "image 2/101 /app/_data/tmp/079be2a10982.jpg: 896x1024 Done. (0.438s)\n",
      "image 3/101 /app/_data/tmp/09b64291b1b9.jpg: 1024x1024 Done. (0.414s)\n",
      "image 4/101 /app/_data/tmp/11b8e5179115.jpg: 1024x1024 1 opacitys, Done. (0.406s)\n",
      "image 5/101 /app/_data/tmp/164dd63ae571.jpg: 896x1024 Done. (0.411s)\n",
      "image 6/101 /app/_data/tmp/180a5ea482c5.jpg: 896x1024 2 opacitys, Done. (0.408s)\n",
      "image 7/101 /app/_data/tmp/19b0d2d65a38.jpg: 896x1024 1 opacitys, Done. (0.410s)\n",
      "image 8/101 /app/_data/tmp/1a330ec81ee3.jpg: 896x1024 2 opacitys, Done. (0.410s)\n",
      "image 9/101 /app/_data/tmp/1b4cf5e0fbe0.jpg: 896x1024 Done. (0.405s)\n",
      "image 10/101 /app/_data/tmp/1c13336fc8a9.jpg: 896x1024 2 opacitys, Done. (0.415s)\n",
      "image 11/101 /app/_data/tmp/1d981fb423e0.jpg: 896x1024 Done. (0.408s)\n",
      "image 12/101 /app/_data/tmp/1f927318863d.jpg: 896x1024 1 opacitys, Done. (0.408s)\n",
      "image 13/101 /app/_data/tmp/1fb5ca50e8d3.jpg: 896x1024 Done. (0.411s)\n",
      "image 14/101 /app/_data/tmp/21d1f013892c.jpg: 896x1024 Done. (0.407s)\n",
      "image 15/101 /app/_data/tmp/26454c05ce6e.jpg: 896x1024 2 opacitys, Done. (0.416s)\n",
      "image 16/101 /app/_data/tmp/2857f0e19e09.jpg: 896x1024 2 opacitys, Done. (0.413s)\n",
      "image 17/101 /app/_data/tmp/2aaab6a41f1a.jpg: 896x1024 1 opacitys, Done. (0.409s)\n",
      "image 18/101 /app/_data/tmp/2ae9c4c6566f.jpg: 896x1024 1 opacitys, Done. (0.410s)\n",
      "image 19/101 /app/_data/tmp/33d456320f28.jpg: 896x1024 2 opacitys, Done. (0.407s)\n",
      "image 20/101 /app/_data/tmp/36ba388a18df.jpg: 896x1024 2 opacitys, Done. (0.415s)\n",
      "image 21/101 /app/_data/tmp/36e1a455aafc.jpg: 1024x1024 Done. (0.408s)\n",
      "image 22/101 /app/_data/tmp/374e1b87d7b8.jpg: 1024x896 2 opacitys, Done. (0.442s)\n",
      "image 23/101 /app/_data/tmp/376d6d181b25.jpg: 896x1024 2 opacitys, Done. (0.409s)\n",
      "image 24/101 /app/_data/tmp/37c6c0aee54b.jpg: 896x1024 2 opacitys, Done. (0.415s)\n",
      "image 25/101 /app/_data/tmp/386343f0df08.jpg: 896x1024 2 opacitys, Done. (0.415s)\n",
      "image 26/101 /app/_data/tmp/3bf0dc73f1fe.jpg: 1024x1024 1 opacitys, Done. (0.412s)\n",
      "image 27/101 /app/_data/tmp/3d47cc325262.jpg: 1024x1024 Done. (0.414s)\n",
      "image 28/101 /app/_data/tmp/3e4b4468eca3.jpg: 896x1024 2 opacitys, Done. (0.406s)\n",
      "image 29/101 /app/_data/tmp/45a57e934e94.jpg: 1024x1024 Done. (0.409s)\n",
      "image 30/101 /app/_data/tmp/4acbd31eafd5.jpg: 896x1024 Done. (0.413s)\n",
      "image 31/101 /app/_data/tmp/4c0658c05a64.jpg: 1024x1024 Done. (0.408s)\n",
      "image 32/101 /app/_data/tmp/4d7b06512cc1.jpg: 896x1024 1 opacitys, Done. (0.415s)\n",
      "image 33/101 /app/_data/tmp/4e01dd0a5fdf.jpg: 1024x1024 2 opacitys, Done. (0.413s)\n",
      "image 34/101 /app/_data/tmp/4f83ec489a15.jpg: 896x1024 2 opacitys, Done. (0.413s)\n",
      "image 35/101 /app/_data/tmp/50dfcc0c2826.jpg: 896x1024 2 opacitys, Done. (0.408s)\n",
      "image 36/101 /app/_data/tmp/52f02af216bb.jpg: 896x1024 2 opacitys, Done. (0.415s)\n",
      "image 37/101 /app/_data/tmp/55ecad406759.jpg: 896x1024 2 opacitys, Done. (0.407s)\n",
      "image 38/101 /app/_data/tmp/58bc298e0f9f.jpg: 896x1024 2 opacitys, Done. (0.407s)\n",
      "image 39/101 /app/_data/tmp/5b8ee5baa1d5.jpg: 896x1024 Done. (0.420s)\n",
      "image 40/101 /app/_data/tmp/5bab1b955f2a.jpg: 1024x1024 Done. (0.408s)\n",
      "image 41/101 /app/_data/tmp/5c88a5fc55e7.jpg: 896x1024 2 opacitys, Done. (0.410s)\n",
      "image 42/101 /app/_data/tmp/5e8d99b9ab38.jpg: 896x1024 2 opacitys, Done. (0.409s)\n",
      "image 43/101 /app/_data/tmp/60f94703051a.jpg: 896x1024 Done. (0.406s)\n",
      "image 44/101 /app/_data/tmp/64ea82b1343f.jpg: 896x1024 1 opacitys, Done. (0.420s)\n",
      "image 45/101 /app/_data/tmp/661343e25b55.jpg: 896x1024 2 opacitys, Done. (0.412s)\n",
      "image 46/101 /app/_data/tmp/69ffab5539ec.jpg: 896x1024 2 opacitys, Done. (0.408s)\n",
      "image 47/101 /app/_data/tmp/6d66127d071d.jpg: 1024x1024 1 opacitys, Done. (0.415s)\n",
      "image 48/101 /app/_data/tmp/7a608ecc4868.jpg: 896x1024 2 opacitys, Done. (0.414s)\n",
      "image 49/101 /app/_data/tmp/7f30a3c92da5.jpg: 896x1024 2 opacitys, Done. (0.407s)\n",
      "image 50/101 /app/_data/tmp/817301ec71da.jpg: 1024x1024 2 opacitys, Done. (0.410s)\n",
      "image 51/101 /app/_data/tmp/818065156194.jpg: 896x1024 2 opacitys, Done. (0.415s)\n",
      "image 52/101 /app/_data/tmp/825dd8f7aca2.jpg: 896x1024 1 opacitys, Done. (0.416s)\n",
      "image 53/101 /app/_data/tmp/82b36d045a12.jpg: 896x1024 1 opacitys, Done. (0.406s)\n",
      "image 54/101 /app/_data/tmp/858667501a67.jpg: 896x1024 2 opacitys, Done. (0.417s)\n",
      "image 55/101 /app/_data/tmp/877b017a6d20.jpg: 896x1024 2 opacitys, Done. (0.418s)\n",
      "image 56/101 /app/_data/tmp/87a0829f53c1.jpg: 896x1024 2 opacitys, Done. (0.406s)\n",
      "image 57/101 /app/_data/tmp/87d8baf120a6.jpg: 896x1024 2 opacitys, Done. (0.410s)\n",
      "image 58/101 /app/_data/tmp/8be9683b4acc.jpg: 896x1024 1 opacitys, Done. (0.411s)\n",
      "image 59/101 /app/_data/tmp/8f1894f52499.jpg: 896x1024 2 opacitys, Done. (0.410s)\n",
      "image 60/101 /app/_data/tmp/9188ac2c54fe.jpg: 896x1024 1 opacitys, Done. (0.408s)\n",
      "image 61/101 /app/_data/tmp/93be428f5dcf.jpg: 896x1024 2 opacitys, Done. (0.419s)\n",
      "image 62/101 /app/_data/tmp/9b0ab5582681.jpg: 896x1024 1 opacitys, Done. (0.410s)\n",
      "image 63/101 /app/_data/tmp/9c297e900f67.jpg: 896x1024 1 opacitys, Done. (0.413s)\n",
      "image 64/101 /app/_data/tmp/a82ca8f37fb6.jpg: 896x1024 2 opacitys, Done. (0.406s)\n",
      "image 65/101 /app/_data/tmp/ab0a95dee3b0.jpg: 896x1024 Done. (0.428s)\n",
      "image 66/101 /app/_data/tmp/ab15692269fc.jpg: 896x1024 Done. (0.399s)\n",
      "image 67/101 /app/_data/tmp/ac2562a40897.jpg: 1024x1024 1 opacitys, Done. (0.400s)\n",
      "image 68/101 /app/_data/tmp/acc3e6eff7c8.jpg: 1024x1024 Done. (0.390s)\n",
      "image 69/101 /app/_data/tmp/af7d1bd1d629.jpg: 896x1024 Done. (0.397s)\n",
      "image 70/101 /app/_data/tmp/b4d04b517ef8.jpg: 1024x1024 Done. (0.398s)\n",
      "image 71/101 /app/_data/tmp/b5b00763a191.jpg: 896x1024 2 opacitys, Done. (0.394s)\n",
      "image 72/101 /app/_data/tmp/b74f81d65e79.jpg: 1024x1024 2 opacitys, Done. (0.394s)\n",
      "image 73/101 /app/_data/tmp/b7ec5afe1084.jpg: 896x1024 3 opacitys, Done. (0.396s)\n",
      "image 74/101 /app/_data/tmp/ba0b49821b69.jpg: 1024x1024 Done. (0.395s)\n",
      "image 75/101 /app/_data/tmp/bc72a19f5d87.jpg: 1024x1024 Done. (0.398s)\n",
      "image 76/101 /app/_data/tmp/c39146cbda47.jpg: 896x1024 2 opacitys, Done. (0.404s)\n",
      "image 77/101 /app/_data/tmp/c47fc2a4baaf.jpg: 1024x1024 Done. (0.397s)\n",
      "image 78/101 /app/_data/tmp/cad5ad977e21.jpg: 896x1024 Done. (0.393s)\n",
      "image 79/101 /app/_data/tmp/cdc6e15cc1a6.jpg: 896x1024 2 opacitys, Done. (0.397s)\n",
      "image 80/101 /app/_data/tmp/ce34bdbe98b5.jpg: 896x1024 1 opacitys, Done. (0.391s)\n",
      "image 81/101 /app/_data/tmp/cea591e99b8a.jpg: 896x1024 1 opacitys, Done. (0.397s)\n",
      "image 82/101 /app/_data/tmp/d1be32513936.jpg: 896x1024 1 opacitys, Done. (0.395s)\n",
      "image 83/101 /app/_data/tmp/d866b471de43.jpg: 896x1024 Done. (0.392s)\n",
      "image 84/101 /app/_data/tmp/db4cecc08fe8.jpg: 896x1024 Done. (0.396s)\n",
      "image 85/101 /app/_data/tmp/dc6834a1efa6.jpg: 1024x1024 Done. (0.401s)\n",
      "image 86/101 /app/_data/tmp/ddd7ad8b0c41.jpg: 896x1024 2 opacitys, Done. (0.407s)\n",
      "image 87/101 /app/_data/tmp/e47df1ad9ccf.jpg: 896x1024 2 opacitys, Done. (0.390s)\n",
      "image 88/101 /app/_data/tmp/e78f51cdf0b8.jpg: 896x1024 Done. (0.392s)\n",
      "image 89/101 /app/_data/tmp/e8d690e0d67d.jpg: 896x1024 2 opacitys, Done. (0.399s)\n",
      "image 90/101 /app/_data/tmp/ea39ebfacca2.jpg: 1024x1024 Done. (0.397s)\n",
      "image 91/101 /app/_data/tmp/ed74d42fc445.jpg: 896x1024 2 opacitys, Done. (0.399s)\n",
      "image 92/101 /app/_data/tmp/eff9f15c7e9b.jpg: 1024x1024 1 opacitys, Done. (0.394s)\n",
      "image 93/101 /app/_data/tmp/f07e4a04078a.jpg: 896x1024 1 opacitys, Done. (0.389s)\n",
      "image 94/101 /app/_data/tmp/f3239829a8dc.jpg: 896x1024 2 opacitys, Done. (0.393s)\n",
      "image 95/101 /app/_data/tmp/f533f5259633.jpg: 896x1024 2 opacitys, Done. (0.404s)\n",
      "image 96/101 /app/_data/tmp/f8ed7c6111f1.jpg: 896x1024 2 opacitys, Done. (0.394s)\n",
      "image 97/101 /app/_data/tmp/fa0c84ee4577.jpg: 896x1024 2 opacitys, Done. (0.399s)\n",
      "image 98/101 /app/_data/tmp/fbc094e9276f.jpg: 1024x1024 Done. (0.397s)\n",
      "image 99/101 /app/_data/tmp/fbf41ac72bdb.jpg: 896x1024 2 opacitys, Done. (0.397s)\n",
      "image 100/101 /app/_data/tmp/fcc09eaa77c4.jpg: 896x1024 Done. (0.397s)\n",
      "image 101/101 /app/_data/tmp/fd7f440d5444.jpg: 896x1024 2 opacitys, Done. (0.394s)\n",
      "Results saved to /app/_data/tmp/labels\n",
      "Done. (65.167s)\n"
     ]
    }
   ],
   "source": [
    "!python detect.py --weights /app/_data/ScaledYOLOv4/runs/exp2_yolov4lp7_1/weights/best.pt \\\n",
    "                  /app/_data/yolov4p7weights/only_c_0_42_b.pt \\\n",
    "                  --source /app/_data/tmp \\\n",
    "                  --img-size 1024 \\\n",
    "                  --conf-thres 0.3 \\\n",
    "                  --iou-thres 0.5 \\\n",
    "                  --save-txt \\\n",
    "                  --output /app/_data/tmp/labels/ \\\n",
    "                  --augment"
   ]
  },
  {
   "cell_type": "code",
   "execution_count": 15,
   "metadata": {},
   "outputs": [
    {
     "data": {
      "text/html": [
       "<div>\n",
       "<style scoped>\n",
       "    .dataframe tbody tr th:only-of-type {\n",
       "        vertical-align: middle;\n",
       "    }\n",
       "\n",
       "    .dataframe tbody tr th {\n",
       "        vertical-align: top;\n",
       "    }\n",
       "\n",
       "    .dataframe thead th {\n",
       "        text-align: right;\n",
       "    }\n",
       "</style>\n",
       "<table border=\"1\" class=\"dataframe\">\n",
       "  <thead>\n",
       "    <tr style=\"text-align: right;\">\n",
       "      <th></th>\n",
       "      <th>path</th>\n",
       "      <th>StudyInstanceUID</th>\n",
       "      <th>id_image</th>\n",
       "      <th>modality</th>\n",
       "      <th>PatientSex</th>\n",
       "      <th>BodyPartExamined</th>\n",
       "      <th>PhotometricInterpretation</th>\n",
       "      <th>width</th>\n",
       "      <th>height</th>\n",
       "      <th>negative</th>\n",
       "      <th>typical</th>\n",
       "      <th>indeterminate</th>\n",
       "      <th>atypical</th>\n",
       "    </tr>\n",
       "  </thead>\n",
       "  <tbody>\n",
       "    <tr>\n",
       "      <th>0</th>\n",
       "      <td>/app/_data/test/fe64182ae21d/d56579abcb25/a82c...</td>\n",
       "      <td>fe64182ae21d</td>\n",
       "      <td>a82ca8f37fb6</td>\n",
       "      <td>CR</td>\n",
       "      <td>F</td>\n",
       "      <td>CHEST</td>\n",
       "      <td>MONOCHROME2</td>\n",
       "      <td>4248.0</td>\n",
       "      <td>3480.0</td>\n",
       "      <td>0.018855</td>\n",
       "      <td>0.767745</td>\n",
       "      <td>0.121190</td>\n",
       "      <td>0.077865</td>\n",
       "    </tr>\n",
       "    <tr>\n",
       "      <th>1</th>\n",
       "      <td>/app/_data/test/6117058c3931/d51d2a5e7f7a/b74f...</td>\n",
       "      <td>6117058c3931</td>\n",
       "      <td>b74f81d65e79</td>\n",
       "      <td>DX</td>\n",
       "      <td>M</td>\n",
       "      <td>CHEST</td>\n",
       "      <td>MONOCHROME2</td>\n",
       "      <td>3032.0</td>\n",
       "      <td>3032.0</td>\n",
       "      <td>0.005985</td>\n",
       "      <td>0.900126</td>\n",
       "      <td>0.099915</td>\n",
       "      <td>0.030893</td>\n",
       "    </tr>\n",
       "    <tr>\n",
       "      <th>2</th>\n",
       "      <td>/app/_data/test/b83eaac8a377/326c25201eea/1c13...</td>\n",
       "      <td>b83eaac8a377</td>\n",
       "      <td>1c13336fc8a9</td>\n",
       "      <td>DX</td>\n",
       "      <td>M</td>\n",
       "      <td>CHEST</td>\n",
       "      <td>MONOCHROME2</td>\n",
       "      <td>3032.0</td>\n",
       "      <td>2520.0</td>\n",
       "      <td>0.002566</td>\n",
       "      <td>0.838525</td>\n",
       "      <td>0.314463</td>\n",
       "      <td>0.107156</td>\n",
       "    </tr>\n",
       "    <tr>\n",
       "      <th>3</th>\n",
       "      <td>/app/_data/test/9fab41ffbc39/5b8d372f6714/fa0c...</td>\n",
       "      <td>9fab41ffbc39</td>\n",
       "      <td>fa0c84ee4577</td>\n",
       "      <td>CR</td>\n",
       "      <td>F</td>\n",
       "      <td>CHEST</td>\n",
       "      <td>MONOCHROME1</td>\n",
       "      <td>4240.0</td>\n",
       "      <td>3480.0</td>\n",
       "      <td>0.003782</td>\n",
       "      <td>0.961249</td>\n",
       "      <td>0.052953</td>\n",
       "      <td>0.008530</td>\n",
       "    </tr>\n",
       "    <tr>\n",
       "      <th>4</th>\n",
       "      <td>/app/_data/test/4e4ee0341fab/70ae5f9ad500/dc68...</td>\n",
       "      <td>4e4ee0341fab</td>\n",
       "      <td>dc6834a1efa6</td>\n",
       "      <td>CR</td>\n",
       "      <td>F</td>\n",
       "      <td>CHEST</td>\n",
       "      <td>MONOCHROME2</td>\n",
       "      <td>2621.0</td>\n",
       "      <td>2597.0</td>\n",
       "      <td>0.168683</td>\n",
       "      <td>0.020541</td>\n",
       "      <td>0.129774</td>\n",
       "      <td>0.606182</td>\n",
       "    </tr>\n",
       "    <tr>\n",
       "      <th>...</th>\n",
       "      <td>...</td>\n",
       "      <td>...</td>\n",
       "      <td>...</td>\n",
       "      <td>...</td>\n",
       "      <td>...</td>\n",
       "      <td>...</td>\n",
       "      <td>...</td>\n",
       "      <td>...</td>\n",
       "      <td>...</td>\n",
       "      <td>...</td>\n",
       "      <td>...</td>\n",
       "      <td>...</td>\n",
       "      <td>...</td>\n",
       "    </tr>\n",
       "    <tr>\n",
       "      <th>96</th>\n",
       "      <td>/app/_data/test/8ce2b4d54836/48e8f605eb94/ab0a...</td>\n",
       "      <td>8ce2b4d54836</td>\n",
       "      <td>ab0a95dee3b0</td>\n",
       "      <td>CR</td>\n",
       "      <td>F</td>\n",
       "      <td>CHEST</td>\n",
       "      <td>MONOCHROME2</td>\n",
       "      <td>4248.0</td>\n",
       "      <td>3480.0</td>\n",
       "      <td>0.990580</td>\n",
       "      <td>0.001585</td>\n",
       "      <td>0.008911</td>\n",
       "      <td>0.001019</td>\n",
       "    </tr>\n",
       "    <tr>\n",
       "      <th>97</th>\n",
       "      <td>/app/_data/test/b8b849c98dfa/056eb5812a29/93be...</td>\n",
       "      <td>b8b849c98dfa</td>\n",
       "      <td>93be428f5dcf</td>\n",
       "      <td>CR</td>\n",
       "      <td>M</td>\n",
       "      <td>CHEST</td>\n",
       "      <td>MONOCHROME2</td>\n",
       "      <td>2832.0</td>\n",
       "      <td>2320.0</td>\n",
       "      <td>0.000461</td>\n",
       "      <td>0.935444</td>\n",
       "      <td>0.040929</td>\n",
       "      <td>0.039976</td>\n",
       "    </tr>\n",
       "    <tr>\n",
       "      <th>98</th>\n",
       "      <td>/app/_data/test/bac4b1b19508/3cb54739a54b/f533...</td>\n",
       "      <td>bac4b1b19508</td>\n",
       "      <td>f533f5259633</td>\n",
       "      <td>DX</td>\n",
       "      <td>M</td>\n",
       "      <td>PORT CHEST</td>\n",
       "      <td>MONOCHROME2</td>\n",
       "      <td>3056.0</td>\n",
       "      <td>2544.0</td>\n",
       "      <td>0.000733</td>\n",
       "      <td>0.973411</td>\n",
       "      <td>0.035532</td>\n",
       "      <td>0.005570</td>\n",
       "    </tr>\n",
       "    <tr>\n",
       "      <th>99</th>\n",
       "      <td>/app/_data/test/66844043bb82/ca1fc1e22688/f323...</td>\n",
       "      <td>66844043bb82</td>\n",
       "      <td>f3239829a8dc</td>\n",
       "      <td>CR</td>\n",
       "      <td>F</td>\n",
       "      <td>CHEST</td>\n",
       "      <td>MONOCHROME1</td>\n",
       "      <td>2836.0</td>\n",
       "      <td>2336.0</td>\n",
       "      <td>0.001650</td>\n",
       "      <td>0.978164</td>\n",
       "      <td>0.019642</td>\n",
       "      <td>0.006175</td>\n",
       "    </tr>\n",
       "    <tr>\n",
       "      <th>100</th>\n",
       "      <td>/app/_data/test/243e05e85c45/42fd51972031/6613...</td>\n",
       "      <td>243e05e85c45</td>\n",
       "      <td>661343e25b55</td>\n",
       "      <td>CR</td>\n",
       "      <td>M</td>\n",
       "      <td>CHEST</td>\n",
       "      <td>MONOCHROME2</td>\n",
       "      <td>4240.0</td>\n",
       "      <td>3480.0</td>\n",
       "      <td>0.003706</td>\n",
       "      <td>0.968481</td>\n",
       "      <td>0.064495</td>\n",
       "      <td>0.006331</td>\n",
       "    </tr>\n",
       "  </tbody>\n",
       "</table>\n",
       "<p>101 rows × 13 columns</p>\n",
       "</div>"
      ],
      "text/plain": [
       "                                                  path StudyInstanceUID  \\\n",
       "0    /app/_data/test/fe64182ae21d/d56579abcb25/a82c...     fe64182ae21d   \n",
       "1    /app/_data/test/6117058c3931/d51d2a5e7f7a/b74f...     6117058c3931   \n",
       "2    /app/_data/test/b83eaac8a377/326c25201eea/1c13...     b83eaac8a377   \n",
       "3    /app/_data/test/9fab41ffbc39/5b8d372f6714/fa0c...     9fab41ffbc39   \n",
       "4    /app/_data/test/4e4ee0341fab/70ae5f9ad500/dc68...     4e4ee0341fab   \n",
       "..                                                 ...              ...   \n",
       "96   /app/_data/test/8ce2b4d54836/48e8f605eb94/ab0a...     8ce2b4d54836   \n",
       "97   /app/_data/test/b8b849c98dfa/056eb5812a29/93be...     b8b849c98dfa   \n",
       "98   /app/_data/test/bac4b1b19508/3cb54739a54b/f533...     bac4b1b19508   \n",
       "99   /app/_data/test/66844043bb82/ca1fc1e22688/f323...     66844043bb82   \n",
       "100  /app/_data/test/243e05e85c45/42fd51972031/6613...     243e05e85c45   \n",
       "\n",
       "         id_image modality PatientSex BodyPartExamined  \\\n",
       "0    a82ca8f37fb6       CR          F            CHEST   \n",
       "1    b74f81d65e79       DX          M            CHEST   \n",
       "2    1c13336fc8a9       DX          M            CHEST   \n",
       "3    fa0c84ee4577       CR          F            CHEST   \n",
       "4    dc6834a1efa6       CR          F            CHEST   \n",
       "..            ...      ...        ...              ...   \n",
       "96   ab0a95dee3b0       CR          F            CHEST   \n",
       "97   93be428f5dcf       CR          M            CHEST   \n",
       "98   f533f5259633       DX          M       PORT CHEST   \n",
       "99   f3239829a8dc       CR          F            CHEST   \n",
       "100  661343e25b55       CR          M            CHEST   \n",
       "\n",
       "    PhotometricInterpretation   width  height  negative   typical  \\\n",
       "0                 MONOCHROME2  4248.0  3480.0  0.018855  0.767745   \n",
       "1                 MONOCHROME2  3032.0  3032.0  0.005985  0.900126   \n",
       "2                 MONOCHROME2  3032.0  2520.0  0.002566  0.838525   \n",
       "3                 MONOCHROME1  4240.0  3480.0  0.003782  0.961249   \n",
       "4                 MONOCHROME2  2621.0  2597.0  0.168683  0.020541   \n",
       "..                        ...     ...     ...       ...       ...   \n",
       "96                MONOCHROME2  4248.0  3480.0  0.990580  0.001585   \n",
       "97                MONOCHROME2  2832.0  2320.0  0.000461  0.935444   \n",
       "98                MONOCHROME2  3056.0  2544.0  0.000733  0.973411   \n",
       "99                MONOCHROME1  2836.0  2336.0  0.001650  0.978164   \n",
       "100               MONOCHROME2  4240.0  3480.0  0.003706  0.968481   \n",
       "\n",
       "     indeterminate  atypical  \n",
       "0         0.121190  0.077865  \n",
       "1         0.099915  0.030893  \n",
       "2         0.314463  0.107156  \n",
       "3         0.052953  0.008530  \n",
       "4         0.129774  0.606182  \n",
       "..             ...       ...  \n",
       "96        0.008911  0.001019  \n",
       "97        0.040929  0.039976  \n",
       "98        0.035532  0.005570  \n",
       "99        0.019642  0.006175  \n",
       "100       0.064495  0.006331  \n",
       "\n",
       "[101 rows x 13 columns]"
      ]
     },
     "execution_count": 15,
     "metadata": {},
     "output_type": "execute_result"
    }
   ],
   "source": [
    "test_df = test_df[test_df.columns[:-1]]\n",
    "test_df"
   ]
  },
  {
   "cell_type": "code",
   "execution_count": 16,
   "metadata": {
    "tags": []
   },
   "outputs": [
    {
     "data": {
      "text/html": [
       "<div>\n",
       "<style scoped>\n",
       "    .dataframe tbody tr th:only-of-type {\n",
       "        vertical-align: middle;\n",
       "    }\n",
       "\n",
       "    .dataframe tbody tr th {\n",
       "        vertical-align: top;\n",
       "    }\n",
       "\n",
       "    .dataframe thead th {\n",
       "        text-align: right;\n",
       "    }\n",
       "</style>\n",
       "<table border=\"1\" class=\"dataframe\">\n",
       "  <thead>\n",
       "    <tr style=\"text-align: right;\">\n",
       "      <th></th>\n",
       "      <th>id</th>\n",
       "      <th>PredictionString</th>\n",
       "    </tr>\n",
       "  </thead>\n",
       "  <tbody>\n",
       "    <tr>\n",
       "      <th>0</th>\n",
       "      <td>58bc298e0f9f_image</td>\n",
       "      <td>opacity 0.591468 1673 1038 2437 1911 opacity 0...</td>\n",
       "    </tr>\n",
       "    <tr>\n",
       "      <th>1</th>\n",
       "      <td>3e4b4468eca3_image</td>\n",
       "      <td>opacity 0.719782 2419 1188 3781 3329 opacity 0...</td>\n",
       "    </tr>\n",
       "    <tr>\n",
       "      <th>2</th>\n",
       "      <td>9b0ab5582681_image</td>\n",
       "      <td>opacity 0.331561 1962 974 2633 2049</td>\n",
       "    </tr>\n",
       "    <tr>\n",
       "      <th>3</th>\n",
       "      <td>52f02af216bb_image</td>\n",
       "      <td>opacity 0.376937 981 580 1360 951 opacity 0.35...</td>\n",
       "    </tr>\n",
       "    <tr>\n",
       "      <th>4</th>\n",
       "      <td>825dd8f7aca2_image</td>\n",
       "      <td>opacity 0.366672 335 914 1053 1474</td>\n",
       "    </tr>\n",
       "    <tr>\n",
       "      <th>5</th>\n",
       "      <td>f533f5259633_image</td>\n",
       "      <td>opacity 0.706337 349 109 1312 1611 opacity 0.6...</td>\n",
       "    </tr>\n",
       "    <tr>\n",
       "      <th>6</th>\n",
       "      <td>661343e25b55_image</td>\n",
       "      <td>opacity 0.610302 2492 1041 3324 2698 opacity 0...</td>\n",
       "    </tr>\n",
       "    <tr>\n",
       "      <th>7</th>\n",
       "      <td>1a330ec81ee3_image</td>\n",
       "      <td>opacity 0.725064 1631 396 2635 2074 opacity 0....</td>\n",
       "    </tr>\n",
       "    <tr>\n",
       "      <th>8</th>\n",
       "      <td>9188ac2c54fe_image</td>\n",
       "      <td>opacity 0.386109 1881 1186 2493 1604</td>\n",
       "    </tr>\n",
       "    <tr>\n",
       "      <th>9</th>\n",
       "      <td>7f30a3c92da5_image</td>\n",
       "      <td>opacity 0.490259 3310 1352 4078 2596 opacity 0...</td>\n",
       "    </tr>\n",
       "  </tbody>\n",
       "</table>\n",
       "</div>"
      ],
      "text/plain": [
       "                   id                                   PredictionString\n",
       "0  58bc298e0f9f_image  opacity 0.591468 1673 1038 2437 1911 opacity 0...\n",
       "1  3e4b4468eca3_image  opacity 0.719782 2419 1188 3781 3329 opacity 0...\n",
       "2  9b0ab5582681_image                opacity 0.331561 1962 974 2633 2049\n",
       "3  52f02af216bb_image  opacity 0.376937 981 580 1360 951 opacity 0.35...\n",
       "4  825dd8f7aca2_image                 opacity 0.366672 335 914 1053 1474\n",
       "5  f533f5259633_image  opacity 0.706337 349 109 1312 1611 opacity 0.6...\n",
       "6  661343e25b55_image  opacity 0.610302 2492 1041 3324 2698 opacity 0...\n",
       "7  1a330ec81ee3_image  opacity 0.725064 1631 396 2635 2074 opacity 0....\n",
       "8  9188ac2c54fe_image               opacity 0.386109 1881 1186 2493 1604\n",
       "9  7f30a3c92da5_image  opacity 0.490259 3310 1352 4078 2596 opacity 0..."
      ]
     },
     "execution_count": 16,
     "metadata": {},
     "output_type": "execute_result"
    }
   ],
   "source": [
    "sub_image = Test.make_bbox_df(\n",
    "    test_df_=test_df,\n",
    "    SAVE_BBOX_PATH=SAVE_BBOX_PATH,\n",
    ")\n",
    "sub_image.head(10)"
   ]
  },
  {
   "cell_type": "code",
   "execution_count": 10,
   "metadata": {
    "tags": []
   },
   "outputs": [],
   "source": [
    "# if os.path.exists(\"/kaggle/working/yolov5_test\"):\n",
    "#     shutil.rmtree(\"/kaggle/working/yolov5_test\")\n",
    "# if os.path.exists(\"/kaggle/working/test_imgs\"):\n",
    "#     shutil.rmtree(\"/kaggle/working/test_imgs\")"
   ]
  },
  {
   "cell_type": "code",
   "execution_count": 17,
   "metadata": {
    "tags": []
   },
   "outputs": [
    {
     "data": {
      "text/html": [
       "<div>\n",
       "<style scoped>\n",
       "    .dataframe tbody tr th:only-of-type {\n",
       "        vertical-align: middle;\n",
       "    }\n",
       "\n",
       "    .dataframe tbody tr th {\n",
       "        vertical-align: top;\n",
       "    }\n",
       "\n",
       "    .dataframe thead th {\n",
       "        text-align: right;\n",
       "    }\n",
       "</style>\n",
       "<table border=\"1\" class=\"dataframe\">\n",
       "  <thead>\n",
       "    <tr style=\"text-align: right;\">\n",
       "      <th></th>\n",
       "      <th>id</th>\n",
       "      <th>PredictionString</th>\n",
       "    </tr>\n",
       "  </thead>\n",
       "  <tbody>\n",
       "    <tr>\n",
       "      <th>0</th>\n",
       "      <td>004bd59708be_study</td>\n",
       "      <td>negative 0.00026 0 0 1 1 typical 0.98373 0 0 1...</td>\n",
       "    </tr>\n",
       "    <tr>\n",
       "      <th>1</th>\n",
       "      <td>00655178fdfc_study</td>\n",
       "      <td>negative 0.4764 0 0 1 1 typical 0.10479 0 0 1 ...</td>\n",
       "    </tr>\n",
       "    <tr>\n",
       "      <th>2</th>\n",
       "      <td>00be7de16711_study</td>\n",
       "      <td>negative 0.05294 0 0 1 1 typical 0.69003 0 0 1...</td>\n",
       "    </tr>\n",
       "    <tr>\n",
       "      <th>3</th>\n",
       "      <td>015f89ec55ea_study</td>\n",
       "      <td>negative 0.55626 0 0 1 1 typical 0.02034 0 0 1...</td>\n",
       "    </tr>\n",
       "    <tr>\n",
       "      <th>4</th>\n",
       "      <td>059007b73d82_study</td>\n",
       "      <td>negative 0.99581 0 0 1 1 typical 0.00214 0 0 1...</td>\n",
       "    </tr>\n",
       "    <tr>\n",
       "      <th>...</th>\n",
       "      <td>...</td>\n",
       "      <td>...</td>\n",
       "    </tr>\n",
       "    <tr>\n",
       "      <th>196</th>\n",
       "      <td>c47fc2a4baaf_image</td>\n",
       "      <td>none 0.9860439896583557 0 0 1 1</td>\n",
       "    </tr>\n",
       "    <tr>\n",
       "      <th>197</th>\n",
       "      <td>21d1f013892c_image</td>\n",
       "      <td>none 0.3389489948749542 0 0 1 1</td>\n",
       "    </tr>\n",
       "    <tr>\n",
       "      <th>198</th>\n",
       "      <td>fcc09eaa77c4_image</td>\n",
       "      <td>none 0.1394989937543869 0 0 1 1</td>\n",
       "    </tr>\n",
       "    <tr>\n",
       "      <th>199</th>\n",
       "      <td>5b8ee5baa1d5_image</td>\n",
       "      <td>none 0.47639599442481995 0 0 1 1</td>\n",
       "    </tr>\n",
       "    <tr>\n",
       "      <th>200</th>\n",
       "      <td>ab0a95dee3b0_image</td>\n",
       "      <td>none 0.9905800223350525 0 0 1 1</td>\n",
       "    </tr>\n",
       "  </tbody>\n",
       "</table>\n",
       "<p>201 rows × 2 columns</p>\n",
       "</div>"
      ],
      "text/plain": [
       "                     id                                   PredictionString\n",
       "0    004bd59708be_study  negative 0.00026 0 0 1 1 typical 0.98373 0 0 1...\n",
       "1    00655178fdfc_study  negative 0.4764 0 0 1 1 typical 0.10479 0 0 1 ...\n",
       "2    00be7de16711_study  negative 0.05294 0 0 1 1 typical 0.69003 0 0 1...\n",
       "3    015f89ec55ea_study  negative 0.55626 0 0 1 1 typical 0.02034 0 0 1...\n",
       "4    059007b73d82_study  negative 0.99581 0 0 1 1 typical 0.00214 0 0 1...\n",
       "..                  ...                                                ...\n",
       "196  c47fc2a4baaf_image                    none 0.9860439896583557 0 0 1 1\n",
       "197  21d1f013892c_image                    none 0.3389489948749542 0 0 1 1\n",
       "198  fcc09eaa77c4_image                    none 0.1394989937543869 0 0 1 1\n",
       "199  5b8ee5baa1d5_image                   none 0.47639599442481995 0 0 1 1\n",
       "200  ab0a95dee3b0_image                    none 0.9905800223350525 0 0 1 1\n",
       "\n",
       "[201 rows x 2 columns]"
      ]
     },
     "execution_count": 17,
     "metadata": {},
     "output_type": "execute_result"
    }
   ],
   "source": [
    "submission = pd.concat([sub_study, sub_image], ignore_index=True, axis=0)\n",
    "submission"
   ]
  },
  {
   "cell_type": "code",
   "execution_count": 12,
   "metadata": {},
   "outputs": [],
   "source": [
    "# submission.to_csv(\"/kaggle/working/submission.csv\", index=False)"
   ]
  },
  {
   "cell_type": "code",
   "execution_count": 13,
   "metadata": {},
   "outputs": [],
   "source": [
    "# plt.figure(figsize=(20, 20))\n",
    "# sample_df = sub_image[sub_image['PredictionString']!='none 1 0 0 1 1'].sample(20).reset_index(drop=True)\n",
    "# for i in range(20):\n",
    "#     img = Image.open('/kaggle/working/yolov5_test/'+sample_df.loc[i,'id'][:-6]+'.jpg')\n",
    "#     ax = plt.subplot(5, 4, i + 1)\n",
    "#     raw_boxes = sample_df.loc[i,\"PredictionString\"].split()\n",
    "#     boxes = []\n",
    "#     for i in range(0,len(raw_boxes),6):\n",
    "#         boxes.append([int(raw_boxes[i+2]), int(raw_boxes[i+3]),int(raw_boxes[i+4]),int(raw_boxes[i+5])])\n",
    "#     for box in boxes:\n",
    "#         rect = plt.Rectangle(\n",
    "#             (box[0], box[1]),\n",
    "#             (box[2] -box[0] ),\n",
    "#            ( box[3] - box[1]),\n",
    "#            ec=\"b\", fc=\"none\", lw=4.0,\n",
    "#            alpha=0.3\n",
    "#         )\n",
    "#         ax.add_patch(rect)\n",
    "#     ax.imshow(img, cmap=plt.cm.bone)\n",
    "#     plt.xticks([])\n",
    "#     plt.yticks([])\n",
    "# plt.show();"
   ]
  },
  {
   "cell_type": "code",
   "execution_count": null,
   "metadata": {},
   "outputs": [],
   "source": []
  },
  {
   "cell_type": "code",
   "execution_count": null,
   "metadata": {},
   "outputs": [],
   "source": []
  },
  {
   "cell_type": "code",
   "execution_count": null,
   "metadata": {},
   "outputs": [],
   "source": []
  }
 ],
 "metadata": {
  "kernelspec": {
   "display_name": "Python 3",
   "language": "python",
   "name": "python3"
  },
  "language_info": {
   "codemirror_mode": {
    "name": "ipython",
    "version": 3
   },
   "file_extension": ".py",
   "mimetype": "text/x-python",
   "name": "python",
   "nbconvert_exporter": "python",
   "pygments_lexer": "ipython3",
   "version": "3.8.5"
  }
 },
 "nbformat": 4,
 "nbformat_minor": 4
}
