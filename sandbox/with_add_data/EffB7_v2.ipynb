{
 "cells": [
  {
   "cell_type": "code",
   "execution_count": 1,
   "id": "d2fb22be-787b-47f1-88eb-c2330cf61dc5",
   "metadata": {
    "tags": []
   },
   "outputs": [],
   "source": [
    "import ast\n",
    "import json\n",
    "import os\n",
    "import shutil\n",
    "\n",
    "import albumentations\n",
    "import matplotlib.pyplot as plt\n",
    "import numpy as np\n",
    "import pandas as pd\n",
    "import pydicom as dicom\n",
    "import tensorflow as tf\n",
    "import tensorflow_addons as tfa\n",
    "import torch\n",
    "from PIL import Image\n",
    "from sklearn.model_selection import StratifiedKFold\n",
    "from tensorflow import keras\n",
    "from tqdm import tqdm\n",
    "\n",
    "from src.generator import Generator, GetModel"
   ]
  },
  {
   "cell_type": "code",
   "execution_count": 2,
   "id": "3cd4fc2a-14c7-4bbd-9689-e05e3201bbab",
   "metadata": {},
   "outputs": [],
   "source": [
    "df = pd.read_csv(\"/app/_data/train.csv\")\n",
    "list_wrong = df[(df[\"class\"] != \"negative\") & (df[\"label\"] == \"none 1 0 0 1 1\")][\n",
    "    \"id_image\"\n",
    "].tolist()\n",
    "df = df.query(\"id_image not in @list_wrong\").reset_index(drop=True)"
   ]
  },
  {
   "cell_type": "code",
   "execution_count": 3,
   "id": "f0bbe231-5ce2-459c-974d-d00a07911064",
   "metadata": {},
   "outputs": [
    {
     "data": {
      "text/plain": [
       "42"
      ]
     },
     "execution_count": 3,
     "metadata": {},
     "output_type": "execute_result"
    }
   ],
   "source": [
    "with open(\"/app/_data/base_config.json\", \"r\") as f:\n",
    "    base_config = json.load(f)\n",
    "base_config[\"EFFB7\"][\"BATCH_SIZE\"] = 4\n",
    "base_config[\"EFFB7\"][\"SEED\"]"
   ]
  },
  {
   "cell_type": "code",
   "execution_count": 4,
   "id": "394502b3-0898-4025-8699-9103298c8306",
   "metadata": {},
   "outputs": [],
   "source": [
    "labels = pd.read_csv(\"/app/_data/additional_dataset/labels_full.csv\")\n",
    "labels = labels.query(\"Target==0\").reset_index(drop=True)\n",
    "labels[\"image\"] = labels[\"patientId\"] + \".dcm\"\n",
    "labels[\"class\"] = \"negative\"\n",
    "labels = labels[[\"image\", \"class\", \"modality\", \"PatientSex\", \"BodyPartExamined\"]]"
   ]
  },
  {
   "cell_type": "markdown",
   "id": "0ce86d50-c8b6-4dd1-8e4f-e633ce177658",
   "metadata": {},
   "source": [
    "# val only from df"
   ]
  },
  {
   "cell_type": "code",
   "execution_count": 5,
   "id": "abfd86e4-26fc-4ead-9ac3-e2ec455c0d12",
   "metadata": {},
   "outputs": [],
   "source": [
    "skf = StratifiedKFold(n_splits=5, random_state=42, shuffle=True)\n",
    "train_ids = []\n",
    "val_ids = []\n",
    "for train_index, valid_index in skf.split(df, df[\"class\"]):\n",
    "    train_ids.append(train_index)\n",
    "    val_ids.append(valid_index)"
   ]
  },
  {
   "cell_type": "code",
   "execution_count": 17,
   "id": "c6039e29-3400-46a5-9abe-3e9a94b1cf08",
   "metadata": {
    "tags": []
   },
   "outputs": [],
   "source": [
    "for n in range(5):\n",
    "    print('\\n epoch #'+str(n)+'\\n')\n",
    "    val = df.loc[val_ids[n]].sample(frac=1, random_state=base_config[\"EFFB7\"][\"SEED\"])\n",
    "    train = pd.concat(\n",
    "        [\n",
    "            df.loc[\n",
    "                train_ids[n],\n",
    "                [\"image\", \"class\", \"modality\", \"PatientSex\", \"BodyPartExamined\"],\n",
    "            ],\n",
    "            labels.sample(3000),\n",
    "        ],\n",
    "        ignore_index=True,\n",
    "        axis=0,\n",
    "    ).sample(frac=1, random_state=base_config[\"EFFB7\"][\"SEED\"])\n",
    "\n",
    "    gen_train = Generator(\n",
    "        df=train,\n",
    "        batch_size=base_config[\"EFFB7\"][\"BATCH_SIZE\"],\n",
    "        seed=base_config[\"EFFB7\"][\"SEED\"],\n",
    "        img_size=base_config[\"EFFB7\"][\"IMG_SIZE\"],\n",
    "        prepared_img_path=\"/app/_data/train_jpg_600/\",\n",
    "        shuffle=True,\n",
    "        augment=False,\n",
    "        hard_augment=True,\n",
    "        n_inputs=2,\n",
    "        n_classes=4,\n",
    "    )\n",
    "    gen_valid = Generator(\n",
    "        df=val,\n",
    "        batch_size=base_config[\"EFFB7\"][\"BATCH_SIZE\"],\n",
    "        seed=base_config[\"EFFB7\"][\"SEED\"],\n",
    "        img_size=base_config[\"EFFB7\"][\"IMG_SIZE\"],\n",
    "        prepared_img_path=\"/app/_data/train_jpg_600/\",\n",
    "        shuffle=False,\n",
    "        augment=False,\n",
    "        hard_augment=False,\n",
    "        n_inputs=2,\n",
    "        n_classes=4,\n",
    "    )\n",
    "\n",
    "    model = GetModel(\n",
    "        model_name=\"EFFB7\", n_inputs=2, lr=0.0007, activation_func=\"softmax\", weights=None\n",
    "    ).get_model()\n",
    "    policy = keras.mixed_precision.experimental.Policy(\"mixed_float16\")\n",
    "    keras.mixed_precision.experimental.set_policy(policy)\n",
    "\n",
    "    callbacks = GetModel(\"EFFB7\").make_callback(\n",
    "        model_path=\"/app/_data/models/EffB7_4/\",\n",
    "        model_name=\"EffB7_\" + str(n) + \".h5\",\n",
    "        tensorboard_path=\"/app/.tensorboard/EffB74_\" + str(n),\n",
    "        patience_ES=10,\n",
    "        patience_RLR=3,\n",
    "        factor_LR=0.8,\n",
    "        metric_for_monitor=\"val_acc\",\n",
    "        metric_mode=\"max\",\n",
    "    )\n",
    "\n",
    "    history = model.fit(\n",
    "        gen_train,\n",
    "        validation_data=gen_valid,\n",
    "        epochs=50,\n",
    "        steps_per_epoch=len(train_ids[0]) // base_config[\"EFFB7\"][\"BATCH_SIZE\"] // 3,\n",
    "        validation_steps=len(val_ids[0]) // base_config[\"EFFB7\"][\"BATCH_SIZE\"] // 3,\n",
    "        verbose=1,\n",
    "        workers=20,\n",
    "        max_queue_size=500,\n",
    "        callbacks=callbacks,\n",
    "    )\n",
    "    keras.backend.clear_session()"
   ]
  },
  {
   "cell_type": "code",
   "execution_count": null,
   "id": "3ac45a30-2e14-4e8b-9083-04c16dfaac35",
   "metadata": {},
   "outputs": [],
   "source": []
  },
  {
   "cell_type": "code",
   "execution_count": null,
   "id": "b4bad545-191c-4399-96e8-c5514476e377",
   "metadata": {},
   "outputs": [],
   "source": []
  }
 ],
 "metadata": {
  "kernelspec": {
   "display_name": "Python 3",
   "language": "python",
   "name": "python3"
  },
  "language_info": {
   "codemirror_mode": {
    "name": "ipython",
    "version": 3
   },
   "file_extension": ".py",
   "mimetype": "text/x-python",
   "name": "python",
   "nbconvert_exporter": "python",
   "pygments_lexer": "ipython3",
   "version": "3.8.5"
  }
 },
 "nbformat": 4,
 "nbformat_minor": 5
}
