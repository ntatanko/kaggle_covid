{
 "cells": [
  {
   "cell_type": "code",
   "execution_count": null,
   "metadata": {
    "execution": {
     "iopub.execute_input": "2021-07-09T04:51:40.743064Z",
     "iopub.status.busy": "2021-07-09T04:51:40.742688Z",
     "iopub.status.idle": "2021-07-09T04:53:43.236054Z",
     "shell.execute_reply": "2021-07-09T04:53:43.235116Z",
     "shell.execute_reply.started": "2021-07-09T04:51:40.742987Z"
    }
   },
   "outputs": [],
   "source": [
    "from time import time\n",
    "start = time()\n",
    "from IPython.display import clear_output\n",
    "!conda install '/kaggle/input/pydicom-conda-helper/libjpeg-turbo-2.1.0-h7f98852_0.tar.bz2' -c conda-forge -y\n",
    "!conda install '/kaggle/input/pydicom-conda-helper/libgcc-ng-9.3.0-h2828fa1_19.tar.bz2' -c conda-forge -y\n",
    "!conda install '/kaggle/input/pydicom-conda-helper/gdcm-2.8.9-py37h500ead1_1.tar.bz2' -c conda-forge -y\n",
    "!conda install '/kaggle/input/pydicom-conda-helper/conda-4.10.1-py37h89c1867_0.tar.bz2' -c conda-forge -y\n",
    "!conda install '/kaggle/input/pydicom-conda-helper/certifi-2020.12.5-py37h89c1867_1.tar.bz2' -c conda-forge -y\n",
    "!conda install '/kaggle/input/pydicom-conda-helper/openssl-1.1.1k-h7f98852_0.tar.bz2' -c conda-forge -y\n",
    "!pip install /kaggle/input/kerasapplications -q\n",
    "!pip install /kaggle/input/efficientnet-keras-source-code/ -q --no-deps\n",
    "clear_output()"
   ]
  },
  {
   "cell_type": "code",
   "execution_count": null,
   "metadata": {
    "_cell_guid": "b1076dfc-b9ad-4769-8c92-a6c4dae69d19",
    "_uuid": "8f2839f25d086af736a60e9eeb907d3b93b6e0e5",
    "execution": {
     "iopub.execute_input": "2021-07-09T04:53:43.238377Z",
     "iopub.status.busy": "2021-07-09T04:53:43.237925Z",
     "iopub.status.idle": "2021-07-09T04:53:50.309005Z",
     "shell.execute_reply": "2021-07-09T04:53:50.308167Z",
     "shell.execute_reply.started": "2021-07-09T04:53:43.238319Z"
    }
   },
   "outputs": [],
   "source": [
    "%cd /kaggle/\n",
    "import os\n",
    "import re\n",
    "import ast\n",
    "import sys\n",
    "import json\n",
    "import torch\n",
    "import shutil\n",
    "import numpy as np\n",
    "import pandas as pd\n",
    "from PIL import Image\n",
    "from tqdm import tqdm\n",
    "from numba import cuda \n",
    "import pydicom as dicom\n",
    "import tensorflow as tf\n",
    "from itertools import chain\n",
    "from tensorflow import keras\n",
    "import matplotlib.pyplot as plt\n",
    "import tensorflow_addons as tfa\n",
    "import efficientnet.tfkeras as efn\n",
    "sys.path.append(\"/kaggle/input/testutils\")\n",
    "from test_utils import  Test, Generator\n",
    "from sklearn.model_selection import StratifiedKFold\n",
    "from IPython.core.interactiveshell import InteractiveShell\n",
    "InteractiveShell.ast_node_interactivity = 'all'\n",
    "sys.path.insert(0, \"input/weightedboxesfusion/\")\n",
    "from ensemble_boxes import *"
   ]
  },
  {
   "cell_type": "code",
   "execution_count": null,
   "metadata": {
    "execution": {
     "iopub.execute_input": "2021-07-09T04:53:50.311045Z",
     "iopub.status.busy": "2021-07-09T04:53:50.31071Z",
     "iopub.status.idle": "2021-07-09T04:53:50.346563Z",
     "shell.execute_reply": "2021-07-09T04:53:50.345609Z",
     "shell.execute_reply.started": "2021-07-09T04:53:50.311014Z"
    }
   },
   "outputs": [],
   "source": [
    "sample_submission = pd.read_csv('/kaggle/input/siim-covid19-detection/sample_submission.csv')\n",
    "sub_study = sample_submission[sample_submission['id'].str.contains('_study')].reset_index(drop=True)\n",
    "sub_image = sample_submission[sample_submission['id'].str.contains('_image')].reset_index(drop=True)\n",
    "labels = [\"negative\", \"typical\", \"indeterminate\", \"atypical\"]\n",
    "if sample_submission.shape[0]==2477:\n",
    "    TRAIN_MODE = True\n",
    "else:\n",
    "    TRAIN_MODE = False\n",
    "CLASSIFICATION = True\n",
    "CROP = False\n",
    "NORM = True\n",
    "TRAIN_MODE"
   ]
  },
  {
   "cell_type": "code",
   "execution_count": null,
   "metadata": {
    "execution": {
     "iopub.execute_input": "2021-07-09T04:53:50.349632Z",
     "iopub.status.busy": "2021-07-09T04:53:50.349388Z",
     "iopub.status.idle": "2021-07-09T04:53:50.354283Z",
     "shell.execute_reply": "2021-07-09T04:53:50.353283Z",
     "shell.execute_reply.started": "2021-07-09T04:53:50.349606Z"
    }
   },
   "outputs": [],
   "source": [
    "TEST_PATH = '/kaggle/input/siim-covid19-detection/test/'\n",
    "TEST_JPG_PATH = '/kaggle/working/test_imgs/'\n",
    "CACHE_CLASS_PATH = '/kaggle/working/test_imgs_class/'\n",
    "CROP_MODEL_PATH = '/kaggle/input/cropmodelb0/EffB0_3.h5' if CROP else None\n",
    "MODEL_PATH = ['/kaggle/input/siim-covid19-efnb7-train-study/']\n",
    "RESIZED_YOLO_PATH = '/kaggle/working/test_imgs_yolo/'\n",
    "MODEL_2CL_PATH = None"
   ]
  },
  {
   "cell_type": "code",
   "execution_count": null,
   "metadata": {
    "execution": {
     "iopub.execute_input": "2021-07-09T04:53:50.356171Z",
     "iopub.status.busy": "2021-07-09T04:53:50.355709Z",
     "iopub.status.idle": "2021-07-09T04:54:11.687444Z",
     "shell.execute_reply": "2021-07-09T04:54:11.686684Z",
     "shell.execute_reply.started": "2021-07-09T04:53:50.356136Z"
    }
   },
   "outputs": [],
   "source": [
    "test_df = Test.prepare_data(\n",
    "    data_path=TEST_PATH,\n",
    "    path_to_save=TEST_JPG_PATH,\n",
    "    train_mode=TRAIN_MODE,\n",
    "    n_train_sample=20,\n",
    "    norm=NORM,\n",
    "    img_size=600,\n",
    "    crop_model_path=CROP_MODEL_PATH,\n",
    "    classification_img_path=CACHE_CLASS_PATH,\n",
    "    resized_yolo_path = RESIZED_YOLO_PATH,\n",
    "    yolo_img_size=1024,\n",
    "    npy_yolo=True\n",
    ")\n",
    "test_df.head()"
   ]
  },
  {
   "cell_type": "code",
   "execution_count": null,
   "metadata": {
    "execution": {
     "iopub.execute_input": "2021-07-09T04:54:11.689121Z",
     "iopub.status.busy": "2021-07-09T04:54:11.688771Z",
     "iopub.status.idle": "2021-07-09T04:56:23.981306Z",
     "shell.execute_reply": "2021-07-09T04:56:23.98035Z",
     "shell.execute_reply.started": "2021-07-09T04:54:11.689082Z"
    }
   },
   "outputs": [],
   "source": [
    "tf.keras.backend.clear_session()\n",
    "if CLASSIFICATION:\n",
    "    gen = Generator(\n",
    "        df=test_df,\n",
    "        img_size=600,\n",
    "        batch_size=1,\n",
    "        norm=NORM,\n",
    "        crop=CROP,\n",
    "        cache_path=CACHE_CLASS_PATH\n",
    "    )\n",
    "    pred_df = Test.make_predictions(\n",
    "        test_df_=test_df,\n",
    "        model_path=MODEL_PATH,\n",
    "        generator=gen,\n",
    "        neg_cl=False\n",
    "    )\n",
    "    pred_df = pred_df.merge(test_df[['image', 'StudyInstanceUID']], on='image')"
   ]
  },
  {
   "cell_type": "code",
   "execution_count": null,
   "metadata": {
    "execution": {
     "iopub.execute_input": "2021-07-09T04:56:24.008511Z",
     "iopub.status.busy": "2021-07-09T04:56:24.007846Z",
     "iopub.status.idle": "2021-07-09T04:56:24.023192Z",
     "shell.execute_reply": "2021-07-09T04:56:24.022275Z",
     "shell.execute_reply.started": "2021-07-09T04:56:24.008467Z"
    }
   },
   "outputs": [],
   "source": [
    "def make_study_submission(pred_df_, test_df_, sub_study_, labels_, train_mod, max_id=True):\n",
    "    sub_study_[\"StudyInstanceUID\"] = sub_study_[\"id\"].str[:-6]\n",
    "    if train_mod:\n",
    "        list_study_ids = pred_df_[\"StudyInstanceUID\"].unique().tolist()\n",
    "        sub_study_ = sub_study_.query(\"StudyInstanceUID in @list_study_ids\")\n",
    "    for ix in sub_study_.index.tolist():\n",
    "        study_name = sub_study_.loc[ix, \"StudyInstanceUID\"]\n",
    "        new_df = pred_df_[pred_df_[\"StudyInstanceUID\"] == study_name]\n",
    "        list_max_pred = []\n",
    "        list_pred = []\n",
    "        for col in labels_:\n",
    "            list_max_pred.append(\n",
    "                sorted(new_df[col].values, reverse=True)[\n",
    "                    : (len(new_df[col].values) // 2) + 1\n",
    "                ]\n",
    "            )\n",
    "            list_pred.append(sorted(new_df[col].values, reverse=True))\n",
    "        ix_max = np.argmax([np.mean(x) for x in list_max_pred])\n",
    "        if max_id:\n",
    "            predictions = []\n",
    "            for i in range(4):\n",
    "                if i == ix_max:\n",
    "                    predictions.append(\n",
    "                        labels_[i] + \" \" + str(np.mean(list_max_pred[i])) + \" 0 0 1 1\"\n",
    "                    )\n",
    "                else:\n",
    "                    predictions.append(\n",
    "                        labels_[i] + \" \" + str(np.mean(list_pred[i])) + \" 0 0 1 1\"\n",
    "                    )\n",
    "        else:\n",
    "            predictions = [\n",
    "                labels_[i] + \" \" + str(np.mean(list_pred[i])) + \" 0 0 1 1\"\n",
    "                for i in range(4)\n",
    "            ]\n",
    "        sub_study_.loc[ix, \"PredictionString\"] = \" \".join(predictions)\n",
    "    for ix in test_df_.index.tolist():\n",
    "        img_name = test_df_.loc[ix, \"image\"]\n",
    "        new_df = pred_df_[pred_df_[\"image\"] == img_name]\n",
    "        for col in labels_:\n",
    "            if max_id:\n",
    "                test_df_.loc[ix, col] = np.mean(\n",
    "                    sorted(new_df[col].values, reverse=True)[\n",
    "                        : (len(new_df[col].values) // 2) + 1\n",
    "                    ]\n",
    "                )\n",
    "            else:\n",
    "                test_df_.loc[ix, col] = np.mean(new_df[col].values)\n",
    "    return sub_study_, test_df_"
   ]
  },
  {
   "cell_type": "code",
   "execution_count": null,
   "metadata": {
    "execution": {
     "iopub.execute_input": "2021-07-09T04:56:24.026052Z",
     "iopub.status.busy": "2021-07-09T04:56:24.025419Z",
     "iopub.status.idle": "2021-07-09T04:56:24.166861Z",
     "shell.execute_reply": "2021-07-09T04:56:24.166056Z",
     "shell.execute_reply.started": "2021-07-09T04:56:24.02601Z"
    }
   },
   "outputs": [],
   "source": [
    "if CLASSIFICATION:\n",
    "    sub_study, test_df = make_study_submission(\n",
    "        pred_df_=pred_df,\n",
    "        test_df_=test_df,\n",
    "        sub_study_=sub_study,\n",
    "        labels_=labels,\n",
    "        max_id=False,\n",
    "        train_mod=TRAIN_MODE\n",
    "    )\n",
    "    test_df.head()\n",
    "    test_df.shape\n",
    "sub_study.head()\n",
    "sub_study.shape"
   ]
  },
  {
   "cell_type": "code",
   "execution_count": null,
   "metadata": {
    "execution": {
     "iopub.execute_input": "2021-07-09T04:56:24.187439Z",
     "iopub.status.busy": "2021-07-09T04:56:24.186969Z",
     "iopub.status.idle": "2021-07-09T04:56:24.19798Z",
     "shell.execute_reply": "2021-07-09T04:56:24.197061Z",
     "shell.execute_reply.started": "2021-07-09T04:56:24.187395Z"
    }
   },
   "outputs": [],
   "source": [
    "shutil.rmtree(CACHE_CLASS_PATH)"
   ]
  },
  {
   "cell_type": "markdown",
   "metadata": {},
   "source": [
    "# yolo"
   ]
  },
  {
   "cell_type": "code",
   "execution_count": null,
   "metadata": {
    "execution": {
     "iopub.execute_input": "2021-07-09T05:07:49.643183Z",
     "iopub.status.busy": "2021-07-09T05:07:49.642829Z",
     "iopub.status.idle": "2021-07-09T05:07:49.650028Z",
     "shell.execute_reply": "2021-07-09T05:07:49.647896Z",
     "shell.execute_reply.started": "2021-07-09T05:07:49.643147Z"
    }
   },
   "outputs": [],
   "source": [
    "YOLO_PATH = [\n",
    "    '/kaggle/input/scaledyolov4/runs/exp2_yolov4lp7_1/weights/best.pt',\n",
    "    '/kaggle/input/scaledyolov4p7weights0/only_c_0_42_b.pt', \n",
    "    '/kaggle/input/scaledyolov4p7weights/only_c_0_42.pt',\n",
    "    '/kaggle/input/scaledyolov4p7weights12/comp_1_42.pt',\n",
    "    '/kaggle/input/scaledyolov4p7weights12/comp_2_42.pt',\n",
    "    '/kaggle/input/weightsyolo45class/weights/best_5cl_yolov4p7_42.pt',\n",
    "    '/kaggle/input/weightsyolo43class/best.pt'\n",
    "]\n",
    "TXT_PATH = [\n",
    "    '/kaggle/working/yolov4_test0/',\n",
    "    '/kaggle/working/yolov4_test1/',\n",
    "    '/kaggle/working/yolov4_test2/',\n",
    "    '/kaggle/working/yolov4_test3/',\n",
    "    '/kaggle/working/yolov4_test4/',\n",
    "    '/kaggle/working/yolov4_test5/',\n",
    "    '/kaggle/working/yolov4_test6/'\n",
    "]\n",
    "YOLO_CONF = 0.0001\n"
   ]
  },
  {
   "cell_type": "code",
   "execution_count": null,
   "metadata": {
    "execution": {
     "iopub.execute_input": "2021-07-09T04:56:24.208075Z",
     "iopub.status.busy": "2021-07-09T04:56:24.207619Z",
     "iopub.status.idle": "2021-07-09T04:57:12.803121Z",
     "shell.execute_reply": "2021-07-09T04:57:12.802201Z",
     "shell.execute_reply.started": "2021-07-09T04:56:24.208031Z"
    }
   },
   "outputs": [],
   "source": [
    "device = cuda.get_current_device()\n",
    "device.reset()\n",
    "!cp -r /kaggle/input/mishcudazip/mish-cuda-master /tmp/\n",
    "!cd /tmp/mish-cuda-master && python setup.py build install\n",
    "clear_output()"
   ]
  },
  {
   "cell_type": "markdown",
   "metadata": {},
   "source": [
    "1. /kaggle/input/scaledyolov4/runs/exp2_yolov4lp7_1/weights/best.pt  0.338  \n",
    "2. /kaggle/input/scaledyolov4p7weights0/only_c_0_42_b.pt  14  0.343  \n",
    "3. /kaggle/input/scaledyolov4p7weights/only_c_0_42.pt  15  0.336\n",
    "4. /kaggle/input/scaledyolov4p7weights12/comp_1_42.pt  16  0.338  \n",
    "5. /kaggle/input/scaledyolov4p7weights12/comp_2_42.pt  17  0.339  \n",
    "1+2 (17)  343  \n",
    "1+3 (18)  339  \n",
    "1+4 (19)  342  \n",
    "1+5 (20)  339  \n",
    "all (21)  344  "
   ]
  },
  {
   "cell_type": "markdown",
   "metadata": {},
   "source": [
    "## Yolo 3cl"
   ]
  },
  {
   "cell_type": "code",
   "execution_count": null,
   "metadata": {
    "execution": {
     "iopub.execute_input": "2021-07-09T05:07:52.645051Z",
     "iopub.status.busy": "2021-07-09T05:07:52.644719Z",
     "iopub.status.idle": "2021-07-09T05:08:32.969243Z",
     "shell.execute_reply": "2021-07-09T05:08:32.96799Z",
     "shell.execute_reply.started": "2021-07-09T05:07:52.645022Z"
    }
   },
   "outputs": [],
   "source": [
    "os.chdir('/kaggle/input/scaledyolov4')\n",
    "!python detect.py --weights {YOLO_PATH[6]} \\\n",
    "                  --source {RESIZED_YOLO_PATH} \\\n",
    "                  --img-size 1024 \\\n",
    "                  --conf-thres {YOLO_CONF} \\\n",
    "                  --iou-thres 0.5 \\\n",
    "                  --save-txt \\\n",
    "                  --output {TXT_PATH[6]} \\\n",
    "                  --augment"
   ]
  },
  {
   "cell_type": "markdown",
   "metadata": {},
   "source": [
    "## yolo 5cl"
   ]
  },
  {
   "cell_type": "code",
   "execution_count": null,
   "metadata": {
    "execution": {
     "iopub.execute_input": "2021-07-09T04:57:12.805434Z",
     "iopub.status.busy": "2021-07-09T04:57:12.805049Z",
     "iopub.status.idle": "2021-07-09T04:57:54.877271Z",
     "shell.execute_reply": "2021-07-09T04:57:54.87621Z",
     "shell.execute_reply.started": "2021-07-09T04:57:12.805393Z"
    }
   },
   "outputs": [],
   "source": [
    "# os.chdir('/kaggle/input/scaledyolov4')\n",
    "# !python detect.py --weights {YOLO_PATH[5]} \\\n",
    "#                   --source {RESIZED_YOLO_PATH} \\\n",
    "#                   --img-size 1024 \\\n",
    "#                   --conf-thres {YOLO_CONF} \\\n",
    "#                   --iou-thres 0.5 \\\n",
    "#                   --save-txt \\\n",
    "#                   --output {TXT_PATH[5]} \\\n",
    "#                   --augment\n"
   ]
  },
  {
   "cell_type": "markdown",
   "metadata": {},
   "source": [
    "## Yolo 1cl"
   ]
  },
  {
   "cell_type": "code",
   "execution_count": null,
   "metadata": {
    "execution": {
     "iopub.execute_input": "2021-07-08T15:49:34.495086Z",
     "iopub.status.busy": "2021-07-08T15:49:34.4947Z",
     "iopub.status.idle": "2021-07-08T15:53:15.424153Z",
     "shell.execute_reply": "2021-07-08T15:53:15.423206Z",
     "shell.execute_reply.started": "2021-07-08T15:49:34.495051Z"
    }
   },
   "outputs": [],
   "source": [
    "\n",
    "# os.chdir('/kaggle/input/scaledyolov4')\n",
    "# !python detect.py --weights {YOLO_PATH[0]} {YOLO_PATH[1]} {YOLO_PATH[2]} {YOLO_PATH[3]} {YOLO_PATH[4]} \\\n",
    "#                   --source {RESIZED_YOLO_PATH} \\\n",
    "#                   --img-size 1024 \\\n",
    "#                   --conf-thres {YOLO_CONF} \\\n",
    "#                   --iou-thres 0.5 \\\n",
    "#                   --save-txt \\\n",
    "#                   --output {TXT_PATH[0]} \\\n",
    "#                   --augment\n",
    "\n",
    "# !python detect.py --weights {YOLO_PATH[0]} \\\n",
    "#                   --source {RESIZED_YOLO_PATH} \\\n",
    "#                   --img-size 1024 \\\n",
    "#                   --conf-thres {YOLO_CONF} \\\n",
    "#                   --iou-thres 0.5 \\\n",
    "#                   --save-txt \\\n",
    "#                   --output {TXT_PATH[0]} \\\n",
    "#                   --augment\n",
    "\n",
    "# !python detect.py --weights {YOLO_PATH[1]} \\\n",
    "#                   --source {RESIZED_YOLO_PATH} \\\n",
    "#                   --img-size 1024 \\\n",
    "#                   --conf-thres {YOLO_CONF} \\\n",
    "#                   --iou-thres 0.5 \\\n",
    "#                   --save-txt \\\n",
    "#                   --output {TXT_PATH[1]} \\\n",
    "#                   --augment\n",
    "\n",
    "\n",
    "# !python detect.py --weights {YOLO_PATH[2]} \\\n",
    "#                   --source {RESIZED_YOLO_PATH} \\\n",
    "#                   --img-size 1024 \\\n",
    "#                   --conf-thres {YOLO_CONF} \\\n",
    "#                   --iou-thres 0.5 \\\n",
    "#                   --save-txt \\\n",
    "#                   --output {TXT_PATH[2]} \\\n",
    "#                   --augment\n",
    "\n",
    "\n",
    "\n",
    "# !python detect.py --weights {YOLO_PATH[3]} \\\n",
    "#                   --source {RESIZED_YOLO_PATH} \\\n",
    "#                   --img-size 1024 \\\n",
    "#                   --conf-thres {YOLO_CONF} \\\n",
    "#                   --iou-thres 0.5 \\\n",
    "#                   --save-txt \\\n",
    "#                   --output {TXT_PATH[3]} \\\n",
    "#                   --augment\n",
    "\n",
    "\n",
    "# !python detect.py --weights {YOLO_PATH[4]} \\\n",
    "#                   --source {RESIZED_YOLO_PATH} \\\n",
    "#                   --img-size 1024 \\\n",
    "#                   --conf-thres {YOLO_CONF} \\\n",
    "#                   --iou-thres 0.5 \\\n",
    "#                   --save-txt \\\n",
    "#                   --output {TXT_PATH[4]} \\\n",
    "#                   --augment\n",
    "\n",
    "\n"
   ]
  },
  {
   "cell_type": "code",
   "execution_count": null,
   "metadata": {
    "execution": {
     "iopub.execute_input": "2021-07-09T05:17:37.323063Z",
     "iopub.status.busy": "2021-07-09T05:17:37.322713Z",
     "iopub.status.idle": "2021-07-09T05:17:37.347885Z",
     "shell.execute_reply": "2021-07-09T05:17:37.346769Z",
     "shell.execute_reply.started": "2021-07-09T05:17:37.323031Z"
    }
   },
   "outputs": [],
   "source": [
    "sub_image = sample_submission[sample_submission['id'].str.contains('_image')].reset_index(drop=True)\n",
    "def bbox_preidction(\n",
    "    df,\n",
    "    sub_image_,\n",
    "    bbox_folders,\n",
    "    train_mod,\n",
    "    IOU_THR=0.65,\n",
    "    SKIP_BOX_THR=0.01,\n",
    "    SIGMA=0.1,\n",
    "    WBF=True,\n",
    "    NMS=False,\n",
    "    WEIGHTS=None,\n",
    "    SOFT_NMS=False,\n",
    "    NMW=False,\n",
    "    as_is = False,\n",
    "    n_cl = 1\n",
    "):\n",
    "    if n_cl==1 or n_cl==4:\n",
    "        labels = [\"opacity\"]\n",
    "    if n_cl==5:\n",
    "        labels = [\"negative\", \"typical\", \"indeterminate\", \"atypical\", \"opacity\"]\n",
    "\n",
    "    if train_mod:\n",
    "        list_img_ids = df[\"image\"].unique().tolist()\n",
    "        list_img_ids = [list_img_ids[i]+'_image' for i in range(len(list_img_ids))]\n",
    "        sub_image_ = sub_image_.query(\"id in @list_img_ids\")\n",
    "    for ix in sub_image_.index.tolist():\n",
    "        img_name = sub_image_.loc[ix, \"id\"][:-6]\n",
    "        w = df[df['image']==img_name][\"width\"].values[0]\n",
    "        h = df[df['image']==img_name][\"height\"].values[0]\n",
    "        bb_list = []\n",
    "        conf_list = []\n",
    "        class_list = []\n",
    "        file = img_name + \".txt\"\n",
    "        for folder in bbox_folders:\n",
    "            if file in os.listdir(folder):\n",
    "                ls = np.loadtxt(folder + file)\n",
    "                if ls.ndim == 1:\n",
    "                    ls = ls.reshape(1, -1)\n",
    "                boxes_list = ls[:, 1:5].copy()\n",
    "                bl = ls[:, 1:5].copy()\n",
    "                boxes_list[:, 0] = bl[:, 0] - bl[:, 2] / 2\n",
    "                boxes_list[:, 1] = bl[:, 1] - bl[:, 3] / 2\n",
    "                boxes_list[:, 2] = bl[:, 0] + bl[:, 2] / 2\n",
    "                boxes_list[:, 3] = bl[:, 1] + bl[:, 3] / 2\n",
    "                if n_cl==4:\n",
    "                    class_list.append(np.zeros(ls.shape[0]))\n",
    "                else:\n",
    "                    class_list.append(ls[:, 0])\n",
    "                bb_list.append(boxes_list)\n",
    "                conf_list.append(ls[:, 5])\n",
    "                \n",
    "        if bb_list !=[]:\n",
    "            if WBF:\n",
    "                boxes, scores, classes = weighted_boxes_fusion(\n",
    "                    bb_list,\n",
    "                    conf_list,\n",
    "                    class_list,\n",
    "                    weights=WEIGHTS,\n",
    "                    iou_thr=IOU_THR,\n",
    "                    skip_box_thr=SKIP_BOX_THR,\n",
    "                )\n",
    "            elif NMS:\n",
    "                boxes, scores, classes = nms(\n",
    "                    bb_list, conf_list, class_list, weights=WEIGHTS, iou_thr=IOU_THR\n",
    "                )\n",
    "            elif SOFT_NMS:\n",
    "                boxes, scores, classes = soft_nms(\n",
    "                    bb_list,\n",
    "                    conf_list,\n",
    "                    class_list,\n",
    "                    weights=WEIGHTS,\n",
    "                    iou_thr=IOU_THR,\n",
    "                    sigma=SIGMA,\n",
    "                    thresh=SKIP_BOX_THR,\n",
    "                )\n",
    "            elif NMW:\n",
    "                boxes, scores, classes = non_maximum_weighted(\n",
    "                    bb_list,\n",
    "                    conf_list,\n",
    "                    class_list,\n",
    "                    weights=WEIGHTS,\n",
    "                    iou_thr=IOU_THR,\n",
    "                    skip_box_thr=SKIP_BOX_THR,\n",
    "                )\n",
    "            elif as_is:\n",
    "                boxes = bb_list[0]\n",
    "                scores = conf_list[0]\n",
    "                classes = class_list[0]\n",
    "            xmin = boxes[:, 0] * w\n",
    "            ymin = boxes[:, 1] * h\n",
    "            xmax = boxes[:, 2] * w\n",
    "            ymax = boxes[:, 3] * h\n",
    "            list_pred = [\n",
    "                f\"{labels[int(classes[i])]} {scores[i]} {xmin[i]} {ymin[i]} {xmax[i]} {ymax[i]}\"\n",
    "                for i in range(len(boxes[:,0])) if labels[int(classes[i])]=='opacity' and (xmax[i] - xmin[i])<w/2\n",
    "            ]\n",
    "            sub_image_.loc[ix, 'PredictionString'] = \" \".join(list_pred)\n",
    "            if n_cl==5:\n",
    "                negative = np.max(conf_list[0][labels.index('negative')])\n",
    "                typical = np.max(conf_list[0][labels.index('typical')])\n",
    "                indeterminate = np.max(conf_list[0][labels.index('indeterminate')])\n",
    "                atypical = np.max(conf_list[0][labels.index('atypical')])\n",
    "                sub_image_.loc[ix,\"negative\"] = negative\n",
    "                sub_image_.loc[ix,\"typical\"] =  typical\n",
    "                sub_image_.loc[ix,\"indeterminate\"] = indeterminate\n",
    "                sub_image_.loc[ix,\"atypical\"] =  atypical\n",
    "    return sub_image_"
   ]
  },
  {
   "cell_type": "code",
   "execution_count": null,
   "metadata": {
    "execution": {
     "iopub.execute_input": "2021-07-09T05:17:38.416948Z",
     "iopub.status.busy": "2021-07-09T05:17:38.416597Z",
     "iopub.status.idle": "2021-07-09T05:17:38.561488Z",
     "shell.execute_reply": "2021-07-09T05:17:38.560677Z",
     "shell.execute_reply.started": "2021-07-09T05:17:38.416918Z"
    }
   },
   "outputs": [],
   "source": [
    "sub_image = bbox_preidction(\n",
    "    df = test_df,\n",
    "    sub_image_ = sub_image,\n",
    "    bbox_folders = [TXT_PATH[6]],\n",
    "    IOU_THR=0.8,\n",
    "    SKIP_BOX_THR=0.01,\n",
    "    SIGMA=0.1,\n",
    "    WBF=True,\n",
    "    NMS=False,\n",
    "    WEIGHTS=None,\n",
    "    SOFT_NMS=False,\n",
    "    NMW=False,\n",
    "    train_mod = TRAIN_MODE,\n",
    "    as_is=False,\n",
    "    n_cl=4\n",
    ")\n",
    "sub_image"
   ]
  },
  {
   "cell_type": "code",
   "execution_count": null,
   "metadata": {},
   "outputs": [],
   "source": []
  },
  {
   "cell_type": "code",
   "execution_count": null,
   "metadata": {
    "execution": {
     "iopub.execute_input": "2021-07-09T05:17:51.595166Z",
     "iopub.status.busy": "2021-07-09T05:17:51.594843Z",
     "iopub.status.idle": "2021-07-09T05:17:51.621598Z",
     "shell.execute_reply": "2021-07-09T05:17:51.620538Z",
     "shell.execute_reply.started": "2021-07-09T05:17:51.595135Z"
    }
   },
   "outputs": [],
   "source": [
    "n_cl=3\n",
    "for ix in sub_image.index.tolist():\n",
    "    img_name = sub_image.loc[ix, 'id'][:-6]\n",
    "    if CLASSIFICATION:\n",
    "        if n_cl==5:\n",
    "            neg_conf = sub_image.loc[ix, 'negative']\n",
    "        else:\n",
    "            neg_conf = test_df[test_df['image']==img_name]['negative'].values[0]\n",
    "        if 'opacity' not in sub_image.loc[ix, 'PredictionString']:\n",
    "            sub_image.loc[ix, 'PredictionString'] = f'none {neg_conf} 0 0 1 1'\n",
    "        if n_cl!=5:\n",
    "            if neg_conf>0.5:\n",
    "                sub_image.loc[ix, 'PredictionString'] = f'none {neg_conf} 0 0 1 1'\n",
    "        \n",
    "        raw_boxes = sub_image.loc[ix,\"PredictionString\"].split()\n",
    "        max_score = max([float(raw_boxes[i+1]) for i in range(0,len(raw_boxes),6)])\n",
    "        if max_score<0.2:\n",
    "            sub_image.loc[ix, 'PredictionString'] = f'none {neg_conf} 0 0 1 1'\n",
    "    else:\n",
    "        if 'opacity' not in sub_image.loc[ix, 'PredictionString']:\n",
    "            sub_image.loc[ix, 'PredictionString'] = 'none 1 0 0 1 1'\n",
    "        else:\n",
    "            raw_boxes = sub_image.loc[ix,\"PredictionString\"].split()\n",
    "            max_score = max([float(raw_boxes[i+1]) for i in range(0,len(raw_boxes),6)])\n",
    "            if max_score<0.2:\n",
    "                sub_image.loc[ix, 'PredictionString'] = 'none 1 0 0 1 1'"
   ]
  },
  {
   "cell_type": "code",
   "execution_count": null,
   "metadata": {
    "execution": {
     "iopub.execute_input": "2021-07-08T15:53:16.498109Z",
     "iopub.status.busy": "2021-07-08T15:53:16.497552Z",
     "iopub.status.idle": "2021-07-08T15:53:16.511009Z",
     "shell.execute_reply": "2021-07-08T15:53:16.51026Z",
     "shell.execute_reply.started": "2021-07-08T15:53:16.498071Z"
    }
   },
   "outputs": [],
   "source": [
    "for p in os.listdir('/kaggle/working/'):\n",
    "    if p!='submission.csv':\n",
    "        try:\n",
    "            shutil.rmtree('/kaggle/working/'+p)\n",
    "        except:\n",
    "            os.remove('/kaggle/working/'+p)"
   ]
  },
  {
   "cell_type": "code",
   "execution_count": null,
   "metadata": {
    "execution": {
     "iopub.execute_input": "2021-07-09T05:18:06.896098Z",
     "iopub.status.busy": "2021-07-09T05:18:06.895773Z",
     "iopub.status.idle": "2021-07-09T05:18:06.914292Z",
     "shell.execute_reply": "2021-07-09T05:18:06.913287Z",
     "shell.execute_reply.started": "2021-07-09T05:18:06.896068Z"
    }
   },
   "outputs": [],
   "source": [
    "submission = pd.concat([sub_study[['id', 'PredictionString']],sub_image[['id', 'PredictionString']]], ignore_index=True, axis=0)\n",
    "submission"
   ]
  },
  {
   "cell_type": "code",
   "execution_count": null,
   "metadata": {
    "execution": {
     "iopub.execute_input": "2021-07-09T05:04:18.675742Z",
     "iopub.status.busy": "2021-07-09T05:04:18.675406Z",
     "iopub.status.idle": "2021-07-09T05:04:18.816551Z",
     "shell.execute_reply": "2021-07-09T05:04:18.815694Z",
     "shell.execute_reply.started": "2021-07-09T05:04:18.675714Z"
    }
   },
   "outputs": [],
   "source": [
    "submission.to_csv(\"/kaggle/working/submission.csv\", index=False)\n",
    "end = time()\n",
    "end-start"
   ]
  },
  {
   "cell_type": "code",
   "execution_count": null,
   "metadata": {
    "execution": {
     "iopub.execute_input": "2021-07-09T05:16:08.749968Z",
     "iopub.status.busy": "2021-07-09T05:16:08.749605Z",
     "iopub.status.idle": "2021-07-09T05:16:10.621363Z",
     "shell.execute_reply": "2021-07-09T05:16:10.620529Z",
     "shell.execute_reply.started": "2021-07-09T05:16:08.749937Z"
    }
   },
   "outputs": [],
   "source": [
    "# plt.figure(figsize=(20, 10))\n",
    "# sample_df = sub_image[sub_image['PredictionString']!='none 1 0 0 1 1'].sample(10).reset_index(drop=True)\n",
    "# sample_df['image'] = sample_df['id'].str[:-6]\n",
    "# sample_df = sample_df.merge(test_df, on='image')\n",
    "# for i in range(10):\n",
    "#     w = sample_df.loc[i, 'width']\n",
    "#     h = sample_df.loc[i, 'height']\n",
    "#     img = np.load('/kaggle/working/test_imgs_yolo/'+sample_df.loc[i,'id'][:-6]+'.npy')\n",
    "#     ax = plt.subplot(2, 5, i + 1)\n",
    "#     raw_boxes = sample_df.loc[i,\"PredictionString\"].split()\n",
    "#     boxes = []\n",
    "#     for i in range(0,len(raw_boxes),6):\n",
    "#         boxes.append([int(1024*float(raw_boxes[i+2])/w), int(1024*float(raw_boxes[i+3])/h),int(1024*float(raw_boxes[i+4])/w),int(1024*float(raw_boxes[i+5])/h)])\n",
    "#     for box in boxes:\n",
    "#         rect = plt.Rectangle(\n",
    "#             (box[0], box[1]),\n",
    "#             (box[2] -box[0] ),\n",
    "#            ( box[3] - box[1]),\n",
    "#            ec=\"b\", fc=\"none\", lw=4.0,\n",
    "#            alpha=0.3\n",
    "#         )\n",
    "#         ax.add_patch(rect)\n",
    "#     ax.imshow(img, cmap=plt.cm.bone)\n",
    "#     plt.xticks([])\n",
    "#     plt.yticks([])\n",
    "# plt.show();"
   ]
  },
  {
   "cell_type": "code",
   "execution_count": null,
   "metadata": {},
   "outputs": [],
   "source": []
  }
 ],
 "metadata": {
  "kernelspec": {
   "display_name": "Python 3",
   "language": "python",
   "name": "python3"
  },
  "language_info": {
   "codemirror_mode": {
    "name": "ipython",
    "version": 3
   },
   "file_extension": ".py",
   "mimetype": "text/x-python",
   "name": "python",
   "nbconvert_exporter": "python",
   "pygments_lexer": "ipython3",
   "version": "3.8.5"
  }
 },
 "nbformat": 4,
 "nbformat_minor": 4
}
